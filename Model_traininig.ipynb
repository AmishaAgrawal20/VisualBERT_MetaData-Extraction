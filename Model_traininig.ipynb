{
 "cells": [
  {
   "cell_type": "code",
   "execution_count": 2,
   "metadata": {
    "colab": {
     "base_uri": "https://localhost:8080/",
     "height": 445
    },
    "colab_type": "code",
    "id": "3uk1gG1wtaHf",
    "outputId": "ff1589f3-1a27-4e22-de8e-54827ef8402f"
   },
   "outputs": [],
   "source": [
    "#!git clone https://github.com/YIKUAN8/Transformers-VQA.git\n",
    "#%cd Transformers-VQA/\n",
    "#!pip install -r requirements.txt\n"
   ]
  },
  {
   "cell_type": "markdown",
   "metadata": {
    "colab_type": "text",
    "id": "YxFGskafyP2L"
   },
   "source": [
    "####**Download pre-trained models and place them to data/pretrained/, you could choose from [VisualBERT](https://github.com/uclanlp/visualbert), [LXMERT](https://github.com/airsplay/lxmert), [UNITER](https://github.com/ChenRocks/UNITER).**"
   ]
  },
  {
   "cell_type": "code",
   "execution_count": 3,
   "metadata": {
    "colab": {
     "base_uri": "https://localhost:8080/",
     "height": 853
    },
    "colab_type": "code",
    "id": "lHTrgovTxEQk",
    "outputId": "77bce656-67db-41b4-92e5-b95eec0c43ca"
   },
   "outputs": [],
   "source": [
    "#line 1: UNITER; line 2:LXMERT, line 3: VisualBERT. Comment out selected lines if you don't want to use this model\n",
    "#if the pre-trained VisualBERT cannot be downloaded succesfully, rerun one more time or refer to this link: https://drive.google.com/file/d/1kuPr187zWxSJbtCbVW87XzInXltM-i9Y/view?usp=sharing\n",
    "#!wget https://convaisharables.blob.core.windows.net/uniter/pretrained/uniter-base.pt -P models/pretrained/\n",
    "#!wget --no-check-certificate https://nlp1.cs.unc.edu/data/model_LXRT.pth -P models/pretrained/\n",
    "#!wget --load-cookies /tmp/cookies.txt \"https://docs.google.com/uc?export=download&confirm=$(wget --quiet --save-cookies /tmp/cookies.txt --keep-session-cookies --no-check-certificate 'https://docs.google.com/uc?export=download&id=1kuPr187zWxSJbtCbVW87XzInXltM-i9Y' -O- | sed -rn 's/.*confirm=([0-9A-Za-z_]+).*/\\1\\n/p')&id=1kuPr187zWxSJbtCbVW87XzInXltM-i9Y\" -O models/pretrained/visualbert.th && rm -rf /tmp/cookies.txt\n"
   ]
  },
  {
   "cell_type": "code",
   "execution_count": 5,
   "metadata": {},
   "outputs": [],
   "source": [
    "# laod a pickle file of openI dataframe\n",
    "import pickle\n",
    "with open(\"/home/amisha/Transformers-VQA/data/openI.pkl\", \"rb\") as file:\n",
    "    openI = pickle.load(file)"
   ]
  },
  {
   "cell_type": "markdown",
   "metadata": {
    "colab_type": "text",
    "id": "XI_nOZOh92F6"
   },
   "source": [
    "***Load visual features***"
   ]
  },
  {
   "cell_type": "code",
   "execution_count": 9,
   "metadata": {
    "colab": {},
    "colab_type": "code",
    "id": "YkMj9DWU9hd4"
   },
   "outputs": [],
   "source": [
    "import pickle\n",
    "openI_v_f = pickle.load( open(\"/home/amisha/Transformers-VQA/data/openI_v_f.pkl\", \"rb\" ) )"
   ]
  },
  {
   "cell_type": "code",
   "execution_count": 10,
   "metadata": {
    "colab": {},
    "colab_type": "code",
    "id": "RjNs-h_v-NSR"
   },
   "outputs": [],
   "source": [
    "assert set(list(openI_v_f.keys())) == set(openI.id.values), \"Visual Features are inconsistent with openI dataset\""
   ]
  },
  {
   "cell_type": "code",
   "execution_count": 11,
   "metadata": {},
   "outputs": [
    {
     "data": {
      "text/html": [
       "<div>\n",
       "<style scoped>\n",
       "    .dataframe tbody tr th:only-of-type {\n",
       "        vertical-align: middle;\n",
       "    }\n",
       "\n",
       "    .dataframe tbody tr th {\n",
       "        vertical-align: top;\n",
       "    }\n",
       "\n",
       "    .dataframe thead th {\n",
       "        text-align: right;\n",
       "    }\n",
       "</style>\n",
       "<table border=\"1\" class=\"dataframe\">\n",
       "  <thead>\n",
       "    <tr style=\"text-align: right;\">\n",
       "      <th></th>\n",
       "      <th>id</th>\n",
       "      <th>abstract</th>\n",
       "      <th>affiliation</th>\n",
       "      <th>author</th>\n",
       "      <th>date</th>\n",
       "      <th>journal</th>\n",
       "      <th>title</th>\n",
       "      <th>split</th>\n",
       "      <th>text</th>\n",
       "    </tr>\n",
       "  </thead>\n",
       "  <tbody>\n",
       "    <tr>\n",
       "      <th>0</th>\n",
       "      <td>1</td>\n",
       "      <td>1</td>\n",
       "      <td>0</td>\n",
       "      <td>0</td>\n",
       "      <td>0</td>\n",
       "      <td>0</td>\n",
       "      <td>0</td>\n",
       "      <td>train</td>\n",
       "      <td>Abstract. The article is about the specifics o...</td>\n",
       "    </tr>\n",
       "    <tr>\n",
       "      <th>1</th>\n",
       "      <td>2</td>\n",
       "      <td>0</td>\n",
       "      <td>0</td>\n",
       "      <td>0</td>\n",
       "      <td>0</td>\n",
       "      <td>1</td>\n",
       "      <td>0</td>\n",
       "      <td>test</td>\n",
       "      <td>2017|05</td>\n",
       "    </tr>\n",
       "    <tr>\n",
       "      <th>2</th>\n",
       "      <td>3</td>\n",
       "      <td>0</td>\n",
       "      <td>0</td>\n",
       "      <td>0</td>\n",
       "      <td>0</td>\n",
       "      <td>0</td>\n",
       "      <td>1</td>\n",
       "      <td>train</td>\n",
       "      <td>Eingabenkultur und Diktaturerfahrungen in der DDR</td>\n",
       "    </tr>\n",
       "    <tr>\n",
       "      <th>3</th>\n",
       "      <td>4</td>\n",
       "      <td>0</td>\n",
       "      <td>0</td>\n",
       "      <td>1</td>\n",
       "      <td>0</td>\n",
       "      <td>0</td>\n",
       "      <td>0</td>\n",
       "      <td>test</td>\n",
       "      <td>Cornelia Neuert, Patricia Hadler, Timo Lenzner...</td>\n",
       "    </tr>\n",
       "    <tr>\n",
       "      <th>4</th>\n",
       "      <td>5</td>\n",
       "      <td>0</td>\n",
       "      <td>0</td>\n",
       "      <td>0</td>\n",
       "      <td>0</td>\n",
       "      <td>0</td>\n",
       "      <td>1</td>\n",
       "      <td>train</td>\n",
       "      <td>Palliative care and bioethics: study with assi...</td>\n",
       "    </tr>\n",
       "    <tr>\n",
       "      <th>...</th>\n",
       "      <td>...</td>\n",
       "      <td>...</td>\n",
       "      <td>...</td>\n",
       "      <td>...</td>\n",
       "      <td>...</td>\n",
       "      <td>...</td>\n",
       "      <td>...</td>\n",
       "      <td>...</td>\n",
       "      <td>...</td>\n",
       "    </tr>\n",
       "    <tr>\n",
       "      <th>80687</th>\n",
       "      <td>80688</td>\n",
       "      <td>0</td>\n",
       "      <td>1</td>\n",
       "      <td>0</td>\n",
       "      <td>0</td>\n",
       "      <td>0</td>\n",
       "      <td>0</td>\n",
       "      <td>train</td>\n",
       "      <td>la implementacio6n del Programa de Apoyo pleme...</td>\n",
       "    </tr>\n",
       "    <tr>\n",
       "      <th>80688</th>\n",
       "      <td>80689</td>\n",
       "      <td>1</td>\n",
       "      <td>0</td>\n",
       "      <td>0</td>\n",
       "      <td>0</td>\n",
       "      <td>0</td>\n",
       "      <td>0</td>\n",
       "      <td>train</td>\n",
       "      <td>*“* Profesor investigador en la Universidad Au...</td>\n",
       "    </tr>\n",
       "    <tr>\n",
       "      <th>80689</th>\n",
       "      <td>80690</td>\n",
       "      <td>0</td>\n",
       "      <td>0</td>\n",
       "      <td>0</td>\n",
       "      <td>0</td>\n",
       "      <td>0</td>\n",
       "      <td>1</td>\n",
       "      <td>train</td>\n",
       "      <td>Griindung der \"Association of the Sociologists...</td>\n",
       "    </tr>\n",
       "    <tr>\n",
       "      <th>80690</th>\n",
       "      <td>80691</td>\n",
       "      <td>0</td>\n",
       "      <td>0</td>\n",
       "      <td>1</td>\n",
       "      <td>0</td>\n",
       "      <td>0</td>\n",
       "      <td>0</td>\n",
       "      <td>train</td>\n",
       "      <td>Heine von Alemann</td>\n",
       "    </tr>\n",
       "    <tr>\n",
       "      <th>80691</th>\n",
       "      <td>80692</td>\n",
       "      <td>0</td>\n",
       "      <td>1</td>\n",
       "      <td>0</td>\n",
       "      <td>0</td>\n",
       "      <td>0</td>\n",
       "      <td>0</td>\n",
       "      <td>train</td>\n",
       "      <td>Auf einer Konferenz von Fachvertretern europai...</td>\n",
       "    </tr>\n",
       "  </tbody>\n",
       "</table>\n",
       "<p>80692 rows × 9 columns</p>\n",
       "</div>"
      ],
      "text/plain": [
       "          id  abstract  affiliation  author  date  journal  title  split  \\\n",
       "0          1         1            0       0     0        0      0  train   \n",
       "1          2         0            0       0     0        1      0   test   \n",
       "2          3         0            0       0     0        0      1  train   \n",
       "3          4         0            0       1     0        0      0   test   \n",
       "4          5         0            0       0     0        0      1  train   \n",
       "...      ...       ...          ...     ...   ...      ...    ...    ...   \n",
       "80687  80688         0            1       0     0        0      0  train   \n",
       "80688  80689         1            0       0     0        0      0  train   \n",
       "80689  80690         0            0       0     0        0      1  train   \n",
       "80690  80691         0            0       1     0        0      0  train   \n",
       "80691  80692         0            1       0     0        0      0  train   \n",
       "\n",
       "                                                    text  \n",
       "0      Abstract. The article is about the specifics o...  \n",
       "1                                                2017|05  \n",
       "2      Eingabenkultur und Diktaturerfahrungen in der DDR  \n",
       "3      Cornelia Neuert, Patricia Hadler, Timo Lenzner...  \n",
       "4      Palliative care and bioethics: study with assi...  \n",
       "...                                                  ...  \n",
       "80687  la implementacio6n del Programa de Apoyo pleme...  \n",
       "80688  *“* Profesor investigador en la Universidad Au...  \n",
       "80689  Griindung der \"Association of the Sociologists...  \n",
       "80690                                  Heine von Alemann  \n",
       "80691  Auf einer Konferenz von Fachvertretern europai...  \n",
       "\n",
       "[80692 rows x 9 columns]"
      ]
     },
     "execution_count": 11,
     "metadata": {},
     "output_type": "execute_result"
    }
   ],
   "source": [
    "openI"
   ]
  },
  {
   "cell_type": "code",
   "execution_count": 12,
   "metadata": {
    "colab": {},
    "colab_type": "code",
    "id": "eblFG3hO-TJl"
   },
   "outputs": [],
   "source": [
    "feature_example, bbox_example, (img_w_example, img_h_example) = openI_v_f[openI.id.iloc[0]]"
   ]
  },
  {
   "cell_type": "code",
   "execution_count": 13,
   "metadata": {},
   "outputs": [
    {
     "data": {
      "text/plain": [
       "[array([[ 142,  951, 1479, 1097]], dtype=int32),\n",
       " array([[0.1515294 , 0.16800034, 0.09502802, ..., 0.16190083, 0.17268997,\n",
       "         0.15456162]], dtype=float32),\n",
       " (1654, 2339)]"
      ]
     },
     "execution_count": 13,
     "metadata": {},
     "output_type": "execute_result"
    }
   ],
   "source": [
    "openI_v_f[openI.id.iloc[0]]"
   ]
  },
  {
   "cell_type": "code",
   "execution_count": 14,
   "metadata": {
    "colab": {
     "base_uri": "https://localhost:8080/",
     "height": 34
    },
    "colab_type": "code",
    "id": "RQif-R9R-6JL",
    "outputId": "47cd90b6-a2d3-494b-ed74-fbeb706c91b0"
   },
   "outputs": [
    {
     "data": {
      "text/plain": [
       "((1, 4), (1, 2048), (1654, 2339))"
      ]
     },
     "execution_count": 14,
     "metadata": {},
     "output_type": "execute_result"
    }
   ],
   "source": [
    "feature_example.shape, bbox_example.shape, (img_w_example, img_h_example)"
   ]
  },
  {
   "cell_type": "markdown",
   "metadata": {
    "colab_type": "text",
    "id": "Av4fOtWY_kUy"
   },
   "source": [
    "####**Now We have download all data, models, and dependencies. We are good to go!!!**\n",
    "**1. Change default arguments**\n",
    "\n",
    "First, let's check it out!"
   ]
  },
  {
   "cell_type": "code",
   "execution_count": 15,
   "metadata": {
    "colab": {},
    "colab_type": "code",
    "id": "JDbsVwU1L0fv"
   },
   "outputs": [],
   "source": [
    "from param import args"
   ]
  },
  {
   "cell_type": "code",
   "execution_count": 16,
   "metadata": {
    "colab": {
     "base_uri": "https://localhost:8080/",
     "height": 391
    },
    "colab_type": "code",
    "id": "XWfkpkyqL0nx",
    "outputId": "a4a09ce6-2226-400c-9bc0-fe0c3ea74b33"
   },
   "outputs": [
    {
     "data": {
      "text/plain": [
       "{'model': 'lxmert',\n",
       " 'train': 'train,nominival',\n",
       " 'valid': 'minival',\n",
       " 'test': None,\n",
       " 'batch_size': 32,\n",
       " 'optim': 'bert',\n",
       " 'lr': 0.0001,\n",
       " 'epochs': 2,\n",
       " 'dropout': 0.1,\n",
       " 'seed': 9595,\n",
       " 'max_seq_length': 20,\n",
       " 'output': 'models/trained/',\n",
       " 'fast': False,\n",
       " 'tiny': False,\n",
       " 'tqdm': True,\n",
       " 'load_trained': None,\n",
       " 'load_pretrained': None,\n",
       " 'from_scratch': False,\n",
       " 'mce_loss': False,\n",
       " 'multiGPU': False,\n",
       " 'num_workers': 0,\n",
       " 'optimizer': 'bert'}"
      ]
     },
     "execution_count": 16,
     "metadata": {},
     "output_type": "execute_result"
    }
   ],
   "source": [
    "args.__dict__"
   ]
  },
  {
   "cell_type": "markdown",
   "metadata": {
    "colab_type": "text",
    "id": "DjVa6bzEMD9o"
   },
   "source": [
    "***1.1*** Let's overwrite some arguments***"
   ]
  },
  {
   "cell_type": "code",
   "execution_count": 17,
   "metadata": {
    "colab": {},
    "colab_type": "code",
    "id": "zr13E_VOL0lI"
   },
   "outputs": [],
   "source": [
    "args.batch_size = 18\n",
    "args.epochs = 2\n",
    "args.model = 'visualbert' # use visualbert\n",
    "args.load_pretrained = '/home/amisha/Transformers-VQA/models/pretrained/visualbert.th' #load pretrained visualbert model\n",
    "args.max_seq_length = 128 #truncate or pad report lengths to 128 subwords"
   ]
  },
  {
   "cell_type": "markdown",
   "metadata": {
    "colab_type": "text",
    "id": "ebDy_6n3LTIX"
   },
   "source": [
    "####**2. Create customized dataloader**"
   ]
  },
  {
   "cell_type": "code",
   "execution_count": 18,
   "metadata": {
    "colab": {
     "base_uri": "https://localhost:8080/",
     "height": 272
    },
    "colab_type": "code",
    "id": "dRnXgYJUEzlm",
    "outputId": "79e37e5b-d2d3-4362-ce38-63dab85f1839"
   },
   "outputs": [
    {
     "data": {
      "text/plain": [
       "['abstract', 'affiliation', 'author', 'date', 'journal', 'title']"
      ]
     },
     "execution_count": 18,
     "metadata": {},
     "output_type": "execute_result"
    }
   ],
   "source": [
    "findings = list(openI.columns[1:-2])\n",
    "findings"
   ]
  },
  {
   "cell_type": "code",
   "execution_count": 19,
   "metadata": {
    "colab": {},
    "colab_type": "code",
    "id": "698_jFhK_zyD"
   },
   "outputs": [],
   "source": [
    "from torch.utils.data import Dataset\n",
    "from torch.utils.data.dataloader import DataLoader\n",
    "import numpy as np\n",
    "class OpenIDataset(Dataset):\n",
    "  def __init__(self, df, vf, split, model = 'lxmert'):\n",
    "    # train_test_split and prepare labels\n",
    "    self.dataset = df[df['split'] == split]\n",
    "    self.visual_features = vf\n",
    "    self.id_list = self.dataset.id.tolist()\n",
    "    self.report_list = self.dataset.text.tolist()\n",
    "    self.findings_list = self.dataset.columns[1:-2]\n",
    "    self.target_list = self.dataset[self.findings_list].to_numpy().astype(np.float32)\n",
    "    self.model = model\n",
    "\n",
    "  def __len__(self):\n",
    "    return len(self.id_list)\n",
    "\n",
    "  def __getitem__(self, item):\n",
    "    cxr_id = self.id_list[item]\n",
    "    target = self.target_list[item]\n",
    "    boxes, feats, (img_w, img_h) = self.visual_features[cxr_id]\n",
    "    report = self.report_list[item]\n",
    "    if self.model == 'uniter':\n",
    "      boxes = self._uniterBoxes(boxes)\n",
    "    if self.model == 'lxmert':\n",
    "      boxes[:, (0, 2)] /= img_w\n",
    "      boxes[:, (1, 3)] /= img_h\n",
    "    return cxr_id, feats, boxes, report, target\n",
    "\n",
    "  def _uniterBoxes(self, boxes):#uniter requires a 7-dimensiom beside the regular 4-d bbox\n",
    "    new_boxes = np.zeros((boxes.shape[0],7),dtype='float32')\n",
    "    new_boxes = np.zeros((boxes.shape[0],7),dtype='float32')\n",
    "    new_boxes[:,1] = boxes[:,0]\n",
    "    new_boxes[:,0] = boxes[:,1]\n",
    "    new_boxes[:,3] = boxes[:,2]\n",
    "    new_boxes[:,2] = boxes[:,3]\n",
    "    new_boxes[:,4] = new_boxes[:,3]-new_boxes[:,1] #w\n",
    "    new_boxes[:,5] = new_boxes[:,2]-new_boxes[:,0] #h\n",
    "    new_boxes[:,6]=new_boxes[:,4]*new_boxes[:,5] #area\n",
    "    return new_boxes  "
   ]
  },
  {
   "cell_type": "code",
   "execution_count": 20,
   "metadata": {
    "colab": {},
    "colab_type": "code",
    "id": "gbcfc_2JHllX"
   },
   "outputs": [],
   "source": [
    "training = OpenIDataset(df = openI, vf = openI_v_f,  split='train', model = args.model)\n",
    "testing = OpenIDataset(df = openI, vf = openI_v_f,  split='test', model = args.model)"
   ]
  },
  {
   "cell_type": "code",
   "execution_count": 21,
   "metadata": {
    "colab": {},
    "colab_type": "code",
    "id": "VnnacfHxIhP3"
   },
   "outputs": [],
   "source": [
    "train_loader = DataLoader(training, batch_size=1,shuffle=True, num_workers=0,drop_last=True, pin_memory=True)\n",
    "test_loader = DataLoader(testing, batch_size=1,shuffle=False, num_workers=0,drop_last=False, pin_memory=True)"
   ]
  },
  {
   "cell_type": "code",
   "execution_count": null,
   "metadata": {},
   "outputs": [],
   "source": [
    "len(test_loader)"
   ]
  },
  {
   "cell_type": "markdown",
   "metadata": {
    "colab_type": "text",
    "id": "eXPaP_mFNes3"
   },
   "source": [
    "####**3. Model, Optimizer, Loss Function, and Evaluation Function**"
   ]
  },
  {
   "cell_type": "code",
   "execution_count": 23,
   "metadata": {
    "colab": {},
    "colab_type": "code",
    "id": "6uykSct2KTw3"
   },
   "outputs": [],
   "source": [
    "from vqa_model import VQAModel\n",
    "#init model\n",
    "model = VQAModel(num_answers = len(findings), model = args.model)"
   ]
  },
  {
   "cell_type": "code",
   "execution_count": 24,
   "metadata": {
    "colab": {
     "base_uri": "https://localhost:8080/",
     "height": 255
    },
    "colab_type": "code",
    "id": "P3iW1th0Oh_u",
    "outputId": "7b9d8b34-0ecd-4cc1-ca3d-58bf927506d6"
   },
   "outputs": [
    {
     "name": "stdout",
     "output_type": "stream",
     "text": [
      "Load VISUALBERT PreTrained Model from /home/amisha/Transformers-VQA/models/pretrained/visualbert.th\n",
      "\n",
      "Weights in loaded but not in model:\n",
      "cls.predictions.bias\n",
      "cls.predictions.decoder.weight\n",
      "cls.predictions.transform.LayerNorm.bias\n",
      "cls.predictions.transform.LayerNorm.weight\n",
      "cls.predictions.transform.dense.bias\n",
      "cls.predictions.transform.dense.weight\n",
      "cls.seq_relationship.bias\n",
      "cls.seq_relationship.weight\n",
      "\n",
      "Weights in model but not in loaded:\n",
      "\n"
     ]
    }
   ],
   "source": [
    "#load pretrained weights\n",
    "model.encoder.load(args.load_pretrained)"
   ]
  },
  {
   "cell_type": "code",
   "execution_count": 25,
   "metadata": {
    "colab": {},
    "colab_type": "code",
    "id": "mu24KigJOzPh"
   },
   "outputs": [],
   "source": [
    "#send to GPU\n",
    "model = model.cuda()"
   ]
  },
  {
   "cell_type": "code",
   "execution_count": 26,
   "metadata": {
    "colab": {},
    "colab_type": "code",
    "id": "X8PSIXBVPCzZ"
   },
   "outputs": [],
   "source": [
    "import torch\n",
    "loss = torch.nn.BCEWithLogitsLoss()"
   ]
  },
  {
   "cell_type": "code",
   "execution_count": 27,
   "metadata": {
    "colab": {},
    "colab_type": "code",
    "id": "C7Ya8sMYPPZw"
   },
   "outputs": [],
   "source": [
    "from src.optimization import BertAdam\n",
    "optim = BertAdam(list(model.parameters()),lr=args.lr,warmup=0.1,t_total=len(train_loader)*args.epochs)"
   ]
  },
  {
   "cell_type": "code",
   "execution_count": 28,
   "metadata": {
    "colab": {},
    "colab_type": "code",
    "id": "UEyAhI33Pu4T"
   },
   "outputs": [],
   "source": [
    "\"\"\"\n",
    "# Evaluation function, we will report the AUC and accuray of each finding\n",
    "def eval(target, pred):\n",
    "    acc_list = []\n",
    "    for i, d in enumerate(findings[:]): #normal is excluded\n",
    "        acc = np.mean(target[:,i] == (pred[:,i]>=0.5))\n",
    "        print(i,d,acc)\n",
    "        acc_list.append(acc)\n",
    "    print('Averaged: '+str(np.average(acc_list)))\n",
    "\"\"\""
   ]
  },
  {
   "cell_type": "code",
   "execution_count": 30,
   "metadata": {},
   "outputs": [],
   "source": [
    "#Importing the required libraries\n",
    "from sklearn import datasets\n",
    "import pandas as pd\n",
    "from sklearn.linear_model import LogisticRegression\n",
    "from sklearn.model_selection import train_test_split\n",
    "from sklearn.metrics import precision_recall_curve\n",
    "from sklearn.metrics import plot_precision_recall_curve\n",
    "from sklearn.metrics import precision_score\n",
    "from sklearn.metrics import recall_score\n",
    "import matplotlib.pyplot as plt"
   ]
  },
  {
   "cell_type": "code",
   "execution_count": null,
   "metadata": {},
   "outputs": [],
   "source": [
    "# Evaluation function, we will report the precision and recall of each finding\n",
    "\n",
    "def eval(target, pred):\n",
    "    metadata = []\n",
    "    precision=[]\n",
    "    recall=[]\n",
    "    for i, d in enumerate(findings[:]):\n",
    "        tar=[]\n",
    "        pre = []\n",
    "        for j in target:\n",
    "            t = np.argmax(j)\n",
    "            tar.append(t)\n",
    "            \n",
    "        for k in pred:\n",
    "            p = np.argmax(k)\n",
    "            pre.append(p)\n",
    "        precisi = precision_score(tar,p)\n",
    "        precision.append(precisi)\n",
    "        recal = recall_score(t,p)\n",
    "        recall.append(recal)\n",
    "        metadata.append(d)\n",
    "        print(metadata,precisi,recal)\n",
    "    return metadata,precision,recall  "
   ]
  },
  {
   "cell_type": "code",
   "execution_count": 31,
   "metadata": {
    "colab": {},
    "colab_type": "code",
    "id": "3o3MuvKgShwb"
   },
   "outputs": [],
   "source": [
    "sgmd = torch.nn.Sigmoid()"
   ]
  },
  {
   "cell_type": "markdown",
   "metadata": {
    "colab_type": "text",
    "id": "3YFUoKlaQmYC"
   },
   "source": [
    "####**4. HIT and RUN**"
   ]
  },
  {
   "cell_type": "code",
   "execution_count": null,
   "metadata": {
    "colab": {
     "base_uri": "https://localhost:8080/",
     "height": 791,
     "referenced_widgets": [
      "72c243f0fea84d21b818beb4ac27b2d7",
      "b9374f4e4b32423892a28b34b553b332",
      "a95bbddd8e5c4e03bff64e3b80bd881f",
      "76b353baa18c49acb52df0366ca87c97",
      "ab3a076576404f63866e8cff6f5482a4",
      "4a1a8b0eea6a48318a0e8b8ec9f188c2",
      "41046242a45c4bb6b84d69819ee8418a",
      "11a99243f3654a6084292750006628dc",
      "a7dfc96af13847c89543cfc62568b82e",
      "0faad0d7fe3c482db16a39107c58d35b",
      "a67b28529fb9411dab2b981d9f6c84f6",
      "b3a451c51c0444a0b9a395269909c496",
      "24cea1f04ff24113a23ec5fcf7ef84c3",
      "71ab4c404745480481803c9d3f4b85fc",
      "3839a97dea7c4571831c0bb5d89e4890",
      "d6bb5f5da6904817b50588c3944f06ce",
      "07b93302c26f4706bf0ed979b2dcfdcc",
      "474c46c5156244e298007d98d23e3f85",
      "5414298fd9084eb9b401e2b57ff47e58",
      "d9b2695f88e14fad890ebd2015d3a48d",
      "2de5b7ad8ac441059e1dd58cbd5bd72c",
      "eef1bcd19f7d47bcbede6f1d5c976e88",
      "1f0515e1a34a45d2b11df7f9fe96462e",
      "5527bc1e0de64cb08d3bab4840df7da5",
      "68b1d672ec60458e83f2ac7dcf999a78",
      "e7cec90be3af4a359e535d94d5c0b9d4",
      "55151c83006a431997d35f5c7c3dcc94",
      "88fafa6309754e759907ae056dcb39e7",
      "229776e2db2f4d7fab001cbc062f4a88",
      "6bd0f9775c964014a1b8d632a29377d4",
      "58d75a9ae4ff43ccbac6c5a24929a86b",
      "43b6f8b08d504da581b496bfac7e33b0"
     ]
    },
    "colab_type": "code",
    "id": "bcqsru7nQdMv",
    "outputId": "82e1788b-8de7-4048-8ce3-b7cc283ba19f"
   },
   "outputs": [],
   "source": [
    "from tqdm.notebook import tqdm\n",
    "\n",
    "iter_wrapper = (lambda x: tqdm(x, total=len(train_loader))) if args.tqdm else (lambda x: x)\n",
    "best_valid = 0\n",
    "for epoch in range(args.epochs):\n",
    "    epoch_loss = 0\n",
    "    for i, (cxr_id, feats, boxes, report, target) in iter_wrapper(enumerate(train_loader)):\n",
    "        model.train()\n",
    "        optim.zero_grad()\n",
    "        feats, boxes, target = feats.cuda(), boxes.cuda(), target.cuda()\n",
    "        logit = model(feats, boxes, report)\n",
    "        running_loss = loss(logit, target)\n",
    "        running_loss = running_loss * logit.size(1)\n",
    "        epoch_loss += running_loss\n",
    "        running_loss.backward()\n",
    "        torch.nn.utils.clip_grad_norm_(model.parameters(), 5.)\n",
    "        optim.step()\n",
    "    print(\"Epoch \"+str(epoch)+\": Training Loss: \"+str(epoch_loss/len(train_loader)))\n",
    "    print('Evaluation: ')\n",
    "    model.eval()\n",
    "    logit_list, target_list = [], []\n",
    "    iter_wrapper = (lambda x: tqdm(x, total=len(test_loader)))\n",
    "    for i, (cxr_id, feats, boxes, report, target) in iter_wrapper(enumerate(test_loader)):\n",
    "        target_list.append(target)\n",
    "        with torch.no_grad():\n",
    "            feats, boxes = feats.cuda(), boxes.cuda()\n",
    "            logit = model(feats, boxes, report)\n",
    "            logit_list.append(sgmd(logit).cpu().numpy())\n",
    "\n",
    "    eval(np.concatenate(target_list,axis = 0), np.concatenate(logit_list,axis = 0))\n",
    "   #matrix(np.concatenate(target_list,axis = 0), np.concatenate(logit_list,axis = 0))\n",
    "    \n"
   ]
  },
  {
   "cell_type": "code",
   "execution_count": null,
   "metadata": {},
   "outputs": [],
   "source": [
    "label,pre,reca =eval(np.concatenate(target_list,axis = 0), np.concatenate(logit_list,axis = 0))\n",
    "res1=pd.DataFrame(label,columns=[\"class\"])\n",
    "res2=pd.DataFrame(pre,columns=[\"precision\"])\n",
    "res3 =pd.DataFrame(reca,columns=[\"recall\"])\n",
    "result_df = pd.concat([res1,res2,res3],axis=1)\n",
    "result_df.to_csv(\"Result_VB.csv\")"
   ]
  }
 ],
 "metadata": {
  "accelerator": "GPU",
  "colab": {
   "authorship_tag": "ABX9TyPUcD7PCUEme3I2fm5FeUMD",
   "collapsed_sections": [
    "YxFGskafyP2L",
    "qNuJtgvu2b6Q",
    "mZ3wU6U_7X-B"
   ],
   "include_colab_link": true,
   "name": "openI_VQA.ipynb",
   "provenance": []
  },
  "kernelspec": {
   "display_name": "Python 3",
   "language": "python",
   "name": "python3"
  },
  "language_info": {
   "codemirror_mode": {
    "name": "ipython",
    "version": 3
   },
   "file_extension": ".py",
   "mimetype": "text/x-python",
   "name": "python",
   "nbconvert_exporter": "python",
   "pygments_lexer": "ipython3",
   "version": "3.8.10"
  },
  "widgets": {
   "application/vnd.jupyter.widget-state+json": {
    "07b93302c26f4706bf0ed979b2dcfdcc": {
     "model_module": "@jupyter-widgets/controls",
     "model_name": "HBoxModel",
     "state": {
      "_dom_classes": [],
      "_model_module": "@jupyter-widgets/controls",
      "_model_module_version": "1.5.0",
      "_model_name": "HBoxModel",
      "_view_count": null,
      "_view_module": "@jupyter-widgets/controls",
      "_view_module_version": "1.5.0",
      "_view_name": "HBoxView",
      "box_style": "",
      "children": [
       "IPY_MODEL_5414298fd9084eb9b401e2b57ff47e58",
       "IPY_MODEL_d9b2695f88e14fad890ebd2015d3a48d"
      ],
      "layout": "IPY_MODEL_474c46c5156244e298007d98d23e3f85"
     }
    },
    "0faad0d7fe3c482db16a39107c58d35b": {
     "model_module": "@jupyter-widgets/base",
     "model_name": "LayoutModel",
     "state": {
      "_model_module": "@jupyter-widgets/base",
      "_model_module_version": "1.2.0",
      "_model_name": "LayoutModel",
      "_view_count": null,
      "_view_module": "@jupyter-widgets/base",
      "_view_module_version": "1.2.0",
      "_view_name": "LayoutView",
      "align_content": null,
      "align_items": null,
      "align_self": null,
      "border": null,
      "bottom": null,
      "display": null,
      "flex": null,
      "flex_flow": null,
      "grid_area": null,
      "grid_auto_columns": null,
      "grid_auto_flow": null,
      "grid_auto_rows": null,
      "grid_column": null,
      "grid_gap": null,
      "grid_row": null,
      "grid_template_areas": null,
      "grid_template_columns": null,
      "grid_template_rows": null,
      "height": null,
      "justify_content": null,
      "justify_items": null,
      "left": null,
      "margin": null,
      "max_height": null,
      "max_width": null,
      "min_height": null,
      "min_width": null,
      "object_fit": null,
      "object_position": null,
      "order": null,
      "overflow": null,
      "overflow_x": null,
      "overflow_y": null,
      "padding": null,
      "right": null,
      "top": null,
      "visibility": null,
      "width": null
     }
    },
    "11a99243f3654a6084292750006628dc": {
     "model_module": "@jupyter-widgets/base",
     "model_name": "LayoutModel",
     "state": {
      "_model_module": "@jupyter-widgets/base",
      "_model_module_version": "1.2.0",
      "_model_name": "LayoutModel",
      "_view_count": null,
      "_view_module": "@jupyter-widgets/base",
      "_view_module_version": "1.2.0",
      "_view_name": "LayoutView",
      "align_content": null,
      "align_items": null,
      "align_self": null,
      "border": null,
      "bottom": null,
      "display": null,
      "flex": null,
      "flex_flow": null,
      "grid_area": null,
      "grid_auto_columns": null,
      "grid_auto_flow": null,
      "grid_auto_rows": null,
      "grid_column": null,
      "grid_gap": null,
      "grid_row": null,
      "grid_template_areas": null,
      "grid_template_columns": null,
      "grid_template_rows": null,
      "height": null,
      "justify_content": null,
      "justify_items": null,
      "left": null,
      "margin": null,
      "max_height": null,
      "max_width": null,
      "min_height": null,
      "min_width": null,
      "object_fit": null,
      "object_position": null,
      "order": null,
      "overflow": null,
      "overflow_x": null,
      "overflow_y": null,
      "padding": null,
      "right": null,
      "top": null,
      "visibility": null,
      "width": null
     }
    },
    "1f0515e1a34a45d2b11df7f9fe96462e": {
     "model_module": "@jupyter-widgets/controls",
     "model_name": "DescriptionStyleModel",
     "state": {
      "_model_module": "@jupyter-widgets/controls",
      "_model_module_version": "1.5.0",
      "_model_name": "DescriptionStyleModel",
      "_view_count": null,
      "_view_module": "@jupyter-widgets/base",
      "_view_module_version": "1.2.0",
      "_view_name": "StyleView",
      "description_width": ""
     }
    },
    "229776e2db2f4d7fab001cbc062f4a88": {
     "model_module": "@jupyter-widgets/controls",
     "model_name": "ProgressStyleModel",
     "state": {
      "_model_module": "@jupyter-widgets/controls",
      "_model_module_version": "1.5.0",
      "_model_name": "ProgressStyleModel",
      "_view_count": null,
      "_view_module": "@jupyter-widgets/base",
      "_view_module_version": "1.2.0",
      "_view_name": "StyleView",
      "bar_color": null,
      "description_width": "initial"
     }
    },
    "24cea1f04ff24113a23ec5fcf7ef84c3": {
     "model_module": "@jupyter-widgets/controls",
     "model_name": "ProgressStyleModel",
     "state": {
      "_model_module": "@jupyter-widgets/controls",
      "_model_module_version": "1.5.0",
      "_model_name": "ProgressStyleModel",
      "_view_count": null,
      "_view_module": "@jupyter-widgets/base",
      "_view_module_version": "1.2.0",
      "_view_name": "StyleView",
      "bar_color": null,
      "description_width": "initial"
     }
    },
    "2de5b7ad8ac441059e1dd58cbd5bd72c": {
     "model_module": "@jupyter-widgets/controls",
     "model_name": "ProgressStyleModel",
     "state": {
      "_model_module": "@jupyter-widgets/controls",
      "_model_module_version": "1.5.0",
      "_model_name": "ProgressStyleModel",
      "_view_count": null,
      "_view_module": "@jupyter-widgets/base",
      "_view_module_version": "1.2.0",
      "_view_name": "StyleView",
      "bar_color": null,
      "description_width": "initial"
     }
    },
    "3839a97dea7c4571831c0bb5d89e4890": {
     "model_module": "@jupyter-widgets/controls",
     "model_name": "DescriptionStyleModel",
     "state": {
      "_model_module": "@jupyter-widgets/controls",
      "_model_module_version": "1.5.0",
      "_model_name": "DescriptionStyleModel",
      "_view_count": null,
      "_view_module": "@jupyter-widgets/base",
      "_view_module_version": "1.2.0",
      "_view_name": "StyleView",
      "description_width": ""
     }
    },
    "41046242a45c4bb6b84d69819ee8418a": {
     "model_module": "@jupyter-widgets/controls",
     "model_name": "DescriptionStyleModel",
     "state": {
      "_model_module": "@jupyter-widgets/controls",
      "_model_module_version": "1.5.0",
      "_model_name": "DescriptionStyleModel",
      "_view_count": null,
      "_view_module": "@jupyter-widgets/base",
      "_view_module_version": "1.2.0",
      "_view_name": "StyleView",
      "description_width": ""
     }
    },
    "43b6f8b08d504da581b496bfac7e33b0": {
     "model_module": "@jupyter-widgets/base",
     "model_name": "LayoutModel",
     "state": {
      "_model_module": "@jupyter-widgets/base",
      "_model_module_version": "1.2.0",
      "_model_name": "LayoutModel",
      "_view_count": null,
      "_view_module": "@jupyter-widgets/base",
      "_view_module_version": "1.2.0",
      "_view_name": "LayoutView",
      "align_content": null,
      "align_items": null,
      "align_self": null,
      "border": null,
      "bottom": null,
      "display": null,
      "flex": null,
      "flex_flow": null,
      "grid_area": null,
      "grid_auto_columns": null,
      "grid_auto_flow": null,
      "grid_auto_rows": null,
      "grid_column": null,
      "grid_gap": null,
      "grid_row": null,
      "grid_template_areas": null,
      "grid_template_columns": null,
      "grid_template_rows": null,
      "height": null,
      "justify_content": null,
      "justify_items": null,
      "left": null,
      "margin": null,
      "max_height": null,
      "max_width": null,
      "min_height": null,
      "min_width": null,
      "object_fit": null,
      "object_position": null,
      "order": null,
      "overflow": null,
      "overflow_x": null,
      "overflow_y": null,
      "padding": null,
      "right": null,
      "top": null,
      "visibility": null,
      "width": null
     }
    },
    "474c46c5156244e298007d98d23e3f85": {
     "model_module": "@jupyter-widgets/base",
     "model_name": "LayoutModel",
     "state": {
      "_model_module": "@jupyter-widgets/base",
      "_model_module_version": "1.2.0",
      "_model_name": "LayoutModel",
      "_view_count": null,
      "_view_module": "@jupyter-widgets/base",
      "_view_module_version": "1.2.0",
      "_view_name": "LayoutView",
      "align_content": null,
      "align_items": null,
      "align_self": null,
      "border": null,
      "bottom": null,
      "display": null,
      "flex": null,
      "flex_flow": null,
      "grid_area": null,
      "grid_auto_columns": null,
      "grid_auto_flow": null,
      "grid_auto_rows": null,
      "grid_column": null,
      "grid_gap": null,
      "grid_row": null,
      "grid_template_areas": null,
      "grid_template_columns": null,
      "grid_template_rows": null,
      "height": null,
      "justify_content": null,
      "justify_items": null,
      "left": null,
      "margin": null,
      "max_height": null,
      "max_width": null,
      "min_height": null,
      "min_width": null,
      "object_fit": null,
      "object_position": null,
      "order": null,
      "overflow": null,
      "overflow_x": null,
      "overflow_y": null,
      "padding": null,
      "right": null,
      "top": null,
      "visibility": null,
      "width": null
     }
    },
    "4a1a8b0eea6a48318a0e8b8ec9f188c2": {
     "model_module": "@jupyter-widgets/base",
     "model_name": "LayoutModel",
     "state": {
      "_model_module": "@jupyter-widgets/base",
      "_model_module_version": "1.2.0",
      "_model_name": "LayoutModel",
      "_view_count": null,
      "_view_module": "@jupyter-widgets/base",
      "_view_module_version": "1.2.0",
      "_view_name": "LayoutView",
      "align_content": null,
      "align_items": null,
      "align_self": null,
      "border": null,
      "bottom": null,
      "display": null,
      "flex": null,
      "flex_flow": null,
      "grid_area": null,
      "grid_auto_columns": null,
      "grid_auto_flow": null,
      "grid_auto_rows": null,
      "grid_column": null,
      "grid_gap": null,
      "grid_row": null,
      "grid_template_areas": null,
      "grid_template_columns": null,
      "grid_template_rows": null,
      "height": null,
      "justify_content": null,
      "justify_items": null,
      "left": null,
      "margin": null,
      "max_height": null,
      "max_width": null,
      "min_height": null,
      "min_width": null,
      "object_fit": null,
      "object_position": null,
      "order": null,
      "overflow": null,
      "overflow_x": null,
      "overflow_y": null,
      "padding": null,
      "right": null,
      "top": null,
      "visibility": null,
      "width": null
     }
    },
    "5414298fd9084eb9b401e2b57ff47e58": {
     "model_module": "@jupyter-widgets/controls",
     "model_name": "FloatProgressModel",
     "state": {
      "_dom_classes": [],
      "_model_module": "@jupyter-widgets/controls",
      "_model_module_version": "1.5.0",
      "_model_name": "FloatProgressModel",
      "_view_count": null,
      "_view_module": "@jupyter-widgets/controls",
      "_view_module_version": "1.5.0",
      "_view_name": "ProgressView",
      "bar_style": "success",
      "description": "",
      "description_tooltip": null,
      "layout": "IPY_MODEL_eef1bcd19f7d47bcbede6f1d5c976e88",
      "max": 7,
      "min": 0,
      "orientation": "horizontal",
      "style": "IPY_MODEL_2de5b7ad8ac441059e1dd58cbd5bd72c",
      "value": 7
     }
    },
    "55151c83006a431997d35f5c7c3dcc94": {
     "model_module": "@jupyter-widgets/controls",
     "model_name": "FloatProgressModel",
     "state": {
      "_dom_classes": [],
      "_model_module": "@jupyter-widgets/controls",
      "_model_module_version": "1.5.0",
      "_model_name": "FloatProgressModel",
      "_view_count": null,
      "_view_module": "@jupyter-widgets/controls",
      "_view_module_version": "1.5.0",
      "_view_name": "ProgressView",
      "bar_style": "success",
      "description": "100%",
      "description_tooltip": null,
      "layout": "IPY_MODEL_6bd0f9775c964014a1b8d632a29377d4",
      "max": 7,
      "min": 0,
      "orientation": "horizontal",
      "style": "IPY_MODEL_229776e2db2f4d7fab001cbc062f4a88",
      "value": 7
     }
    },
    "5527bc1e0de64cb08d3bab4840df7da5": {
     "model_module": "@jupyter-widgets/base",
     "model_name": "LayoutModel",
     "state": {
      "_model_module": "@jupyter-widgets/base",
      "_model_module_version": "1.2.0",
      "_model_name": "LayoutModel",
      "_view_count": null,
      "_view_module": "@jupyter-widgets/base",
      "_view_module_version": "1.2.0",
      "_view_name": "LayoutView",
      "align_content": null,
      "align_items": null,
      "align_self": null,
      "border": null,
      "bottom": null,
      "display": null,
      "flex": null,
      "flex_flow": null,
      "grid_area": null,
      "grid_auto_columns": null,
      "grid_auto_flow": null,
      "grid_auto_rows": null,
      "grid_column": null,
      "grid_gap": null,
      "grid_row": null,
      "grid_template_areas": null,
      "grid_template_columns": null,
      "grid_template_rows": null,
      "height": null,
      "justify_content": null,
      "justify_items": null,
      "left": null,
      "margin": null,
      "max_height": null,
      "max_width": null,
      "min_height": null,
      "min_width": null,
      "object_fit": null,
      "object_position": null,
      "order": null,
      "overflow": null,
      "overflow_x": null,
      "overflow_y": null,
      "padding": null,
      "right": null,
      "top": null,
      "visibility": null,
      "width": null
     }
    },
    "58d75a9ae4ff43ccbac6c5a24929a86b": {
     "model_module": "@jupyter-widgets/controls",
     "model_name": "DescriptionStyleModel",
     "state": {
      "_model_module": "@jupyter-widgets/controls",
      "_model_module_version": "1.5.0",
      "_model_name": "DescriptionStyleModel",
      "_view_count": null,
      "_view_module": "@jupyter-widgets/base",
      "_view_module_version": "1.2.0",
      "_view_name": "StyleView",
      "description_width": ""
     }
    },
    "68b1d672ec60458e83f2ac7dcf999a78": {
     "model_module": "@jupyter-widgets/controls",
     "model_name": "HBoxModel",
     "state": {
      "_dom_classes": [],
      "_model_module": "@jupyter-widgets/controls",
      "_model_module_version": "1.5.0",
      "_model_name": "HBoxModel",
      "_view_count": null,
      "_view_module": "@jupyter-widgets/controls",
      "_view_module_version": "1.5.0",
      "_view_name": "HBoxView",
      "box_style": "",
      "children": [
       "IPY_MODEL_55151c83006a431997d35f5c7c3dcc94",
       "IPY_MODEL_88fafa6309754e759907ae056dcb39e7"
      ],
      "layout": "IPY_MODEL_e7cec90be3af4a359e535d94d5c0b9d4"
     }
    },
    "6bd0f9775c964014a1b8d632a29377d4": {
     "model_module": "@jupyter-widgets/base",
     "model_name": "LayoutModel",
     "state": {
      "_model_module": "@jupyter-widgets/base",
      "_model_module_version": "1.2.0",
      "_model_name": "LayoutModel",
      "_view_count": null,
      "_view_module": "@jupyter-widgets/base",
      "_view_module_version": "1.2.0",
      "_view_name": "LayoutView",
      "align_content": null,
      "align_items": null,
      "align_self": null,
      "border": null,
      "bottom": null,
      "display": null,
      "flex": null,
      "flex_flow": null,
      "grid_area": null,
      "grid_auto_columns": null,
      "grid_auto_flow": null,
      "grid_auto_rows": null,
      "grid_column": null,
      "grid_gap": null,
      "grid_row": null,
      "grid_template_areas": null,
      "grid_template_columns": null,
      "grid_template_rows": null,
      "height": null,
      "justify_content": null,
      "justify_items": null,
      "left": null,
      "margin": null,
      "max_height": null,
      "max_width": null,
      "min_height": null,
      "min_width": null,
      "object_fit": null,
      "object_position": null,
      "order": null,
      "overflow": null,
      "overflow_x": null,
      "overflow_y": null,
      "padding": null,
      "right": null,
      "top": null,
      "visibility": null,
      "width": null
     }
    },
    "71ab4c404745480481803c9d3f4b85fc": {
     "model_module": "@jupyter-widgets/base",
     "model_name": "LayoutModel",
     "state": {
      "_model_module": "@jupyter-widgets/base",
      "_model_module_version": "1.2.0",
      "_model_name": "LayoutModel",
      "_view_count": null,
      "_view_module": "@jupyter-widgets/base",
      "_view_module_version": "1.2.0",
      "_view_name": "LayoutView",
      "align_content": null,
      "align_items": null,
      "align_self": null,
      "border": null,
      "bottom": null,
      "display": null,
      "flex": null,
      "flex_flow": null,
      "grid_area": null,
      "grid_auto_columns": null,
      "grid_auto_flow": null,
      "grid_auto_rows": null,
      "grid_column": null,
      "grid_gap": null,
      "grid_row": null,
      "grid_template_areas": null,
      "grid_template_columns": null,
      "grid_template_rows": null,
      "height": null,
      "justify_content": null,
      "justify_items": null,
      "left": null,
      "margin": null,
      "max_height": null,
      "max_width": null,
      "min_height": null,
      "min_width": null,
      "object_fit": null,
      "object_position": null,
      "order": null,
      "overflow": null,
      "overflow_x": null,
      "overflow_y": null,
      "padding": null,
      "right": null,
      "top": null,
      "visibility": null,
      "width": null
     }
    },
    "72c243f0fea84d21b818beb4ac27b2d7": {
     "model_module": "@jupyter-widgets/controls",
     "model_name": "HBoxModel",
     "state": {
      "_dom_classes": [],
      "_model_module": "@jupyter-widgets/controls",
      "_model_module_version": "1.5.0",
      "_model_name": "HBoxModel",
      "_view_count": null,
      "_view_module": "@jupyter-widgets/controls",
      "_view_module_version": "1.5.0",
      "_view_name": "HBoxView",
      "box_style": "",
      "children": [
       "IPY_MODEL_a95bbddd8e5c4e03bff64e3b80bd881f",
       "IPY_MODEL_76b353baa18c49acb52df0366ca87c97"
      ],
      "layout": "IPY_MODEL_b9374f4e4b32423892a28b34b553b332"
     }
    },
    "76b353baa18c49acb52df0366ca87c97": {
     "model_module": "@jupyter-widgets/controls",
     "model_name": "HTMLModel",
     "state": {
      "_dom_classes": [],
      "_model_module": "@jupyter-widgets/controls",
      "_model_module_version": "1.5.0",
      "_model_name": "HTMLModel",
      "_view_count": null,
      "_view_module": "@jupyter-widgets/controls",
      "_view_module_version": "1.5.0",
      "_view_name": "HTMLView",
      "description": "",
      "description_tooltip": null,
      "layout": "IPY_MODEL_11a99243f3654a6084292750006628dc",
      "placeholder": "​",
      "style": "IPY_MODEL_41046242a45c4bb6b84d69819ee8418a",
      "value": " 161/161 [01:41&lt;00:00,  1.59it/s]"
     }
    },
    "88fafa6309754e759907ae056dcb39e7": {
     "model_module": "@jupyter-widgets/controls",
     "model_name": "HTMLModel",
     "state": {
      "_dom_classes": [],
      "_model_module": "@jupyter-widgets/controls",
      "_model_module_version": "1.5.0",
      "_model_name": "HTMLModel",
      "_view_count": null,
      "_view_module": "@jupyter-widgets/controls",
      "_view_module_version": "1.5.0",
      "_view_name": "HTMLView",
      "description": "",
      "description_tooltip": null,
      "layout": "IPY_MODEL_43b6f8b08d504da581b496bfac7e33b0",
      "placeholder": "​",
      "style": "IPY_MODEL_58d75a9ae4ff43ccbac6c5a24929a86b",
      "value": " 7/7 [00:08&lt;00:00,  1.20s/it]"
     }
    },
    "a67b28529fb9411dab2b981d9f6c84f6": {
     "model_module": "@jupyter-widgets/controls",
     "model_name": "FloatProgressModel",
     "state": {
      "_dom_classes": [],
      "_model_module": "@jupyter-widgets/controls",
      "_model_module_version": "1.5.0",
      "_model_name": "FloatProgressModel",
      "_view_count": null,
      "_view_module": "@jupyter-widgets/controls",
      "_view_module_version": "1.5.0",
      "_view_name": "ProgressView",
      "bar_style": "success",
      "description": "100%",
      "description_tooltip": null,
      "layout": "IPY_MODEL_71ab4c404745480481803c9d3f4b85fc",
      "max": 7,
      "min": 0,
      "orientation": "horizontal",
      "style": "IPY_MODEL_24cea1f04ff24113a23ec5fcf7ef84c3",
      "value": 7
     }
    },
    "a7dfc96af13847c89543cfc62568b82e": {
     "model_module": "@jupyter-widgets/controls",
     "model_name": "HBoxModel",
     "state": {
      "_dom_classes": [],
      "_model_module": "@jupyter-widgets/controls",
      "_model_module_version": "1.5.0",
      "_model_name": "HBoxModel",
      "_view_count": null,
      "_view_module": "@jupyter-widgets/controls",
      "_view_module_version": "1.5.0",
      "_view_name": "HBoxView",
      "box_style": "",
      "children": [
       "IPY_MODEL_a67b28529fb9411dab2b981d9f6c84f6",
       "IPY_MODEL_b3a451c51c0444a0b9a395269909c496"
      ],
      "layout": "IPY_MODEL_0faad0d7fe3c482db16a39107c58d35b"
     }
    },
    "a95bbddd8e5c4e03bff64e3b80bd881f": {
     "model_module": "@jupyter-widgets/controls",
     "model_name": "FloatProgressModel",
     "state": {
      "_dom_classes": [],
      "_model_module": "@jupyter-widgets/controls",
      "_model_module_version": "1.5.0",
      "_model_name": "FloatProgressModel",
      "_view_count": null,
      "_view_module": "@jupyter-widgets/controls",
      "_view_module_version": "1.5.0",
      "_view_name": "ProgressView",
      "bar_style": "success",
      "description": "100%",
      "description_tooltip": null,
      "layout": "IPY_MODEL_4a1a8b0eea6a48318a0e8b8ec9f188c2",
      "max": 161,
      "min": 0,
      "orientation": "horizontal",
      "style": "IPY_MODEL_ab3a076576404f63866e8cff6f5482a4",
      "value": 161
     }
    },
    "ab3a076576404f63866e8cff6f5482a4": {
     "model_module": "@jupyter-widgets/controls",
     "model_name": "ProgressStyleModel",
     "state": {
      "_model_module": "@jupyter-widgets/controls",
      "_model_module_version": "1.5.0",
      "_model_name": "ProgressStyleModel",
      "_view_count": null,
      "_view_module": "@jupyter-widgets/base",
      "_view_module_version": "1.2.0",
      "_view_name": "StyleView",
      "bar_color": null,
      "description_width": "initial"
     }
    },
    "b3a451c51c0444a0b9a395269909c496": {
     "model_module": "@jupyter-widgets/controls",
     "model_name": "HTMLModel",
     "state": {
      "_dom_classes": [],
      "_model_module": "@jupyter-widgets/controls",
      "_model_module_version": "1.5.0",
      "_model_name": "HTMLModel",
      "_view_count": null,
      "_view_module": "@jupyter-widgets/controls",
      "_view_module_version": "1.5.0",
      "_view_name": "HTMLView",
      "description": "",
      "description_tooltip": null,
      "layout": "IPY_MODEL_d6bb5f5da6904817b50588c3944f06ce",
      "placeholder": "​",
      "style": "IPY_MODEL_3839a97dea7c4571831c0bb5d89e4890",
      "value": " 7/7 [00:08&lt;00:00,  1.21s/it]"
     }
    },
    "b9374f4e4b32423892a28b34b553b332": {
     "model_module": "@jupyter-widgets/base",
     "model_name": "LayoutModel",
     "state": {
      "_model_module": "@jupyter-widgets/base",
      "_model_module_version": "1.2.0",
      "_model_name": "LayoutModel",
      "_view_count": null,
      "_view_module": "@jupyter-widgets/base",
      "_view_module_version": "1.2.0",
      "_view_name": "LayoutView",
      "align_content": null,
      "align_items": null,
      "align_self": null,
      "border": null,
      "bottom": null,
      "display": null,
      "flex": null,
      "flex_flow": null,
      "grid_area": null,
      "grid_auto_columns": null,
      "grid_auto_flow": null,
      "grid_auto_rows": null,
      "grid_column": null,
      "grid_gap": null,
      "grid_row": null,
      "grid_template_areas": null,
      "grid_template_columns": null,
      "grid_template_rows": null,
      "height": null,
      "justify_content": null,
      "justify_items": null,
      "left": null,
      "margin": null,
      "max_height": null,
      "max_width": null,
      "min_height": null,
      "min_width": null,
      "object_fit": null,
      "object_position": null,
      "order": null,
      "overflow": null,
      "overflow_x": null,
      "overflow_y": null,
      "padding": null,
      "right": null,
      "top": null,
      "visibility": null,
      "width": null
     }
    },
    "d6bb5f5da6904817b50588c3944f06ce": {
     "model_module": "@jupyter-widgets/base",
     "model_name": "LayoutModel",
     "state": {
      "_model_module": "@jupyter-widgets/base",
      "_model_module_version": "1.2.0",
      "_model_name": "LayoutModel",
      "_view_count": null,
      "_view_module": "@jupyter-widgets/base",
      "_view_module_version": "1.2.0",
      "_view_name": "LayoutView",
      "align_content": null,
      "align_items": null,
      "align_self": null,
      "border": null,
      "bottom": null,
      "display": null,
      "flex": null,
      "flex_flow": null,
      "grid_area": null,
      "grid_auto_columns": null,
      "grid_auto_flow": null,
      "grid_auto_rows": null,
      "grid_column": null,
      "grid_gap": null,
      "grid_row": null,
      "grid_template_areas": null,
      "grid_template_columns": null,
      "grid_template_rows": null,
      "height": null,
      "justify_content": null,
      "justify_items": null,
      "left": null,
      "margin": null,
      "max_height": null,
      "max_width": null,
      "min_height": null,
      "min_width": null,
      "object_fit": null,
      "object_position": null,
      "order": null,
      "overflow": null,
      "overflow_x": null,
      "overflow_y": null,
      "padding": null,
      "right": null,
      "top": null,
      "visibility": null,
      "width": null
     }
    },
    "d9b2695f88e14fad890ebd2015d3a48d": {
     "model_module": "@jupyter-widgets/controls",
     "model_name": "HTMLModel",
     "state": {
      "_dom_classes": [],
      "_model_module": "@jupyter-widgets/controls",
      "_model_module_version": "1.5.0",
      "_model_name": "HTMLModel",
      "_view_count": null,
      "_view_module": "@jupyter-widgets/controls",
      "_view_module_version": "1.5.0",
      "_view_name": "HTMLView",
      "description": "",
      "description_tooltip": null,
      "layout": "IPY_MODEL_5527bc1e0de64cb08d3bab4840df7da5",
      "placeholder": "​",
      "style": "IPY_MODEL_1f0515e1a34a45d2b11df7f9fe96462e",
      "value": " 161/? [01:40&lt;00:00,  1.60it/s]"
     }
    },
    "e7cec90be3af4a359e535d94d5c0b9d4": {
     "model_module": "@jupyter-widgets/base",
     "model_name": "LayoutModel",
     "state": {
      "_model_module": "@jupyter-widgets/base",
      "_model_module_version": "1.2.0",
      "_model_name": "LayoutModel",
      "_view_count": null,
      "_view_module": "@jupyter-widgets/base",
      "_view_module_version": "1.2.0",
      "_view_name": "LayoutView",
      "align_content": null,
      "align_items": null,
      "align_self": null,
      "border": null,
      "bottom": null,
      "display": null,
      "flex": null,
      "flex_flow": null,
      "grid_area": null,
      "grid_auto_columns": null,
      "grid_auto_flow": null,
      "grid_auto_rows": null,
      "grid_column": null,
      "grid_gap": null,
      "grid_row": null,
      "grid_template_areas": null,
      "grid_template_columns": null,
      "grid_template_rows": null,
      "height": null,
      "justify_content": null,
      "justify_items": null,
      "left": null,
      "margin": null,
      "max_height": null,
      "max_width": null,
      "min_height": null,
      "min_width": null,
      "object_fit": null,
      "object_position": null,
      "order": null,
      "overflow": null,
      "overflow_x": null,
      "overflow_y": null,
      "padding": null,
      "right": null,
      "top": null,
      "visibility": null,
      "width": null
     }
    },
    "eef1bcd19f7d47bcbede6f1d5c976e88": {
     "model_module": "@jupyter-widgets/base",
     "model_name": "LayoutModel",
     "state": {
      "_model_module": "@jupyter-widgets/base",
      "_model_module_version": "1.2.0",
      "_model_name": "LayoutModel",
      "_view_count": null,
      "_view_module": "@jupyter-widgets/base",
      "_view_module_version": "1.2.0",
      "_view_name": "LayoutView",
      "align_content": null,
      "align_items": null,
      "align_self": null,
      "border": null,
      "bottom": null,
      "display": null,
      "flex": null,
      "flex_flow": null,
      "grid_area": null,
      "grid_auto_columns": null,
      "grid_auto_flow": null,
      "grid_auto_rows": null,
      "grid_column": null,
      "grid_gap": null,
      "grid_row": null,
      "grid_template_areas": null,
      "grid_template_columns": null,
      "grid_template_rows": null,
      "height": null,
      "justify_content": null,
      "justify_items": null,
      "left": null,
      "margin": null,
      "max_height": null,
      "max_width": null,
      "min_height": null,
      "min_width": null,
      "object_fit": null,
      "object_position": null,
      "order": null,
      "overflow": null,
      "overflow_x": null,
      "overflow_y": null,
      "padding": null,
      "right": null,
      "top": null,
      "visibility": null,
      "width": null
     }
    }
   }
  }
 },
 "nbformat": 4,
 "nbformat_minor": 1
}
