{
 "cells": [
  {
   "cell_type": "code",
   "execution_count": 835,
   "id": "12a5f444",
   "metadata": {},
   "outputs": [],
   "source": [
    "#pip install img2vec_pytorch"
   ]
  },
  {
   "cell_type": "code",
   "execution_count": 1,
   "id": "2374b3bb",
   "metadata": {},
   "outputs": [],
   "source": [
    "#importing libraries\n",
    "import os\n",
    "import numpy \n",
    "from img2vec_pytorch import Img2Vec\n",
    "from PIL import Image\n",
    "import IPython.display as display\n",
    "import json\n",
    "import glob\n",
    "import shutil\n",
    "import pandas as pd"
   ]
  },
  {
   "cell_type": "code",
   "execution_count": null,
   "id": "05e5d5ea",
   "metadata": {},
   "outputs": [],
   "source": [
    "from img2vec_pytorch import Img2Vec\n",
    "from PIL import Image\n",
    "\n",
    "# Initialize Img2Vec with GPU\n",
    "img2vec = Img2Vec(cuda=True,model = 'resnet152', layer_output_size=2048)"
   ]
  },
  {
   "cell_type": "code",
   "execution_count": 69,
   "id": "e278b423",
   "metadata": {},
   "outputs": [],
   "source": [
    "#Extracting information from image and json files\n",
    "exceptions = []\n",
    "file_name=[]\n",
    "df =[]\n",
    "data_df=[]\n",
    "for idx,f in enumerate(os.listdir(\"/home/amisha/json_10/\")):\n",
    "    image_path = \"/home/amisha/json_10/\"+f\n",
    "    with open(image_path) as j:\n",
    "        data = pd.read_json(j)\n",
    "        data['image_id'] = idx+1\n",
    "        data['image_path'] = image_path\n",
    "        data = pd.DataFrame(data)\n",
    "        data = data.dropna()\n",
    "        data_df.append(data)\n",
    "        try:\n",
    "            file=dict({'filename':f})\n",
    "            df.append(file)  \n",
    "        except:\n",
    "            exceptions.append(f)"
   ]
  },
  {
   "cell_type": "code",
   "execution_count": null,
   "id": "576430e0",
   "metadata": {},
   "outputs": [],
   "source": [
    "data_df = pd.concat(data_df)"
   ]
  },
  {
   "cell_type": "code",
   "execution_count": 72,
   "id": "64f7e1b2",
   "metadata": {},
   "outputs": [],
   "source": [
    "data_df.columns = ['text', 'bbox', 'label','image_id', 'image_path', 'new_col4','new_col5']"
   ]
  },
  {
   "cell_type": "code",
   "execution_count": 120,
   "id": "c70212a9",
   "metadata": {},
   "outputs": [
    {
     "data": {
      "text/plain": [
       "array(['abstract', 'journal', 'title', 'author', 'affiliation', 'date',\n",
       "       'doi'], dtype=object)"
      ]
     },
     "execution_count": 120,
     "metadata": {},
     "output_type": "execute_result"
    }
   ],
   "source": [
    "data_df[\"label\"].unique()"
   ]
  },
  {
   "cell_type": "code",
   "execution_count": 114,
   "id": "bdc85033",
   "metadata": {},
   "outputs": [],
   "source": [
    "data_df=data_df[(data_df.label == \"abstract\") | (data_df.label == \"title\")|(data_df.label == \"date\")|(data_df.label == \"author\")|(data_df.label == \"affiliation\")|(data_df.label == \"journal\")|(data_df.label == \"doi\")|(data_df.label == \"Address\")]"
   ]
  },
  {
   "cell_type": "code",
   "execution_count": 116,
   "id": "5fdb8e08",
   "metadata": {},
   "outputs": [],
   "source": [
    "data_df1 = data_df.drop(['new_col4','new_col5'], axis = 1)"
   ]
  },
  {
   "cell_type": "code",
   "execution_count": 117,
   "id": "f62925db",
   "metadata": {},
   "outputs": [],
   "source": [
    "data_df1 = data_df1.reset_index(drop=True)\n",
    "data_df1.index += 1 "
   ]
  },
  {
   "cell_type": "code",
   "execution_count": 118,
   "id": "ef6ec16f",
   "metadata": {},
   "outputs": [
    {
     "data": {
      "text/plain": [
       "title          31303\n",
       "author         19747\n",
       "affiliation    15590\n",
       "abstract        6101\n",
       "journal         4426\n",
       "date            3525\n",
       "doi              440\n",
       "Name: label, dtype: int64"
      ]
     },
     "execution_count": 118,
     "metadata": {},
     "output_type": "execute_result"
    }
   ],
   "source": [
    "data_df1[\"label\"].value_counts()"
   ]
  },
  {
   "cell_type": "code",
   "execution_count": 16,
   "id": "7afcafed",
   "metadata": {},
   "outputs": [
    {
     "data": {
      "text/html": [
       "<div>\n",
       "<style scoped>\n",
       "    .dataframe tbody tr th:only-of-type {\n",
       "        vertical-align: middle;\n",
       "    }\n",
       "\n",
       "    .dataframe tbody tr th {\n",
       "        vertical-align: top;\n",
       "    }\n",
       "\n",
       "    .dataframe thead th {\n",
       "        text-align: right;\n",
       "    }\n",
       "</style>\n",
       "<table border=\"1\" class=\"dataframe\">\n",
       "  <thead>\n",
       "    <tr style=\"text-align: right;\">\n",
       "      <th></th>\n",
       "      <th>text</th>\n",
       "      <th>bbox</th>\n",
       "      <th>label</th>\n",
       "      <th>image_id</th>\n",
       "      <th>image_path</th>\n",
       "    </tr>\n",
       "  </thead>\n",
       "  <tbody>\n",
       "    <tr>\n",
       "      <th>1</th>\n",
       "      <td>Abstract. The article is about the specifics o...</td>\n",
       "      <td>[142.0, 951.0, 1479.0, 1097.0]</td>\n",
       "      <td>abstract</td>\n",
       "      <td>1</td>\n",
       "      <td>/home/amisha/json_10/Обусловленность политичес...</td>\n",
       "    </tr>\n",
       "    <tr>\n",
       "      <th>2</th>\n",
       "      <td>2017|05</td>\n",
       "      <td>[578.0, 956.0, 745.0, 1007.0]</td>\n",
       "      <td>journal</td>\n",
       "      <td>2</td>\n",
       "      <td>/home/amisha/json_10/Eingabenkultur und Diktat...</td>\n",
       "    </tr>\n",
       "    <tr>\n",
       "      <th>3</th>\n",
       "      <td>Eingabenkultur und Diktaturerfahrungen in der DDR</td>\n",
       "      <td>[582.0, 1156.0, 1438.0, 1296.0]</td>\n",
       "      <td>title</td>\n",
       "      <td>2</td>\n",
       "      <td>/home/amisha/json_10/Eingabenkultur und Diktat...</td>\n",
       "    </tr>\n",
       "    <tr>\n",
       "      <th>4</th>\n",
       "      <td>Cornelia Neuert, Patricia Hadler, Timo Lenzner...</td>\n",
       "      <td>[576.0, 1653.0, 1605.0, 1818.0]</td>\n",
       "      <td>author</td>\n",
       "      <td>2</td>\n",
       "      <td>/home/amisha/json_10/Eingabenkultur und Diktat...</td>\n",
       "    </tr>\n",
       "    <tr>\n",
       "      <th>5</th>\n",
       "      <td>Palliative care and bioethics: study with assi...</td>\n",
       "      <td>[223.0, 657.0, 1143.0, 695.0]</td>\n",
       "      <td>title</td>\n",
       "      <td>3</td>\n",
       "      <td>/home/amisha/json_10/Palliative care and bioet...</td>\n",
       "    </tr>\n",
       "  </tbody>\n",
       "</table>\n",
       "</div>"
      ],
      "text/plain": [
       "                                                text  \\\n",
       "1  Abstract. The article is about the specifics o...   \n",
       "2                                            2017|05   \n",
       "3  Eingabenkultur und Diktaturerfahrungen in der DDR   \n",
       "4  Cornelia Neuert, Patricia Hadler, Timo Lenzner...   \n",
       "5  Palliative care and bioethics: study with assi...   \n",
       "\n",
       "                              bbox     label  image_id  \\\n",
       "1   [142.0, 951.0, 1479.0, 1097.0]  abstract         1   \n",
       "2    [578.0, 956.0, 745.0, 1007.0]   journal         2   \n",
       "3  [582.0, 1156.0, 1438.0, 1296.0]     title         2   \n",
       "4  [576.0, 1653.0, 1605.0, 1818.0]    author         2   \n",
       "5    [223.0, 657.0, 1143.0, 695.0]     title         3   \n",
       "\n",
       "                                          image_path  \n",
       "1  /home/amisha/json_10/Обусловленность политичес...  \n",
       "2  /home/amisha/json_10/Eingabenkultur und Diktat...  \n",
       "3  /home/amisha/json_10/Eingabenkultur und Diktat...  \n",
       "4  /home/amisha/json_10/Eingabenkultur und Diktat...  \n",
       "5  /home/amisha/json_10/Palliative care and bioet...  "
      ]
     },
     "execution_count": 16,
     "metadata": {},
     "output_type": "execute_result"
    }
   ],
   "source": [
    "data_df1.head()"
   ]
  },
  {
   "cell_type": "code",
   "execution_count": 17,
   "id": "04c16d57",
   "metadata": {},
   "outputs": [],
   "source": [
    "#hot encoding for the label\n",
    "openI1 = pd.get_dummies(data_df1[\"label\"])"
   ]
  },
  {
   "cell_type": "code",
   "execution_count": 18,
   "id": "590f5387",
   "metadata": {},
   "outputs": [
    {
     "name": "stdout",
     "output_type": "stream",
     "text": [
      "No. of training examples: 64553\n",
      "No. of testing examples: 16139\n"
     ]
    }
   ],
   "source": [
    "from sklearn.model_selection import train_test_split\n",
    "\n",
    "training_data, testing_data = train_test_split(openI1, test_size=0.2, random_state=25,shuffle=True,stratify = data_df1[\"label\"].values)\n",
    "\n",
    "print(f\"No. of training examples: {training_data.shape[0]}\")\n",
    "print(f\"No. of testing examples: {testing_data.shape[0]}\")"
   ]
  },
  {
   "cell_type": "code",
   "execution_count": 19,
   "id": "0fd431e4",
   "metadata": {},
   "outputs": [
    {
     "name": "stderr",
     "output_type": "stream",
     "text": [
      "/usr/local/lib/python3.8/dist-packages/pandas/core/indexing.py:1597: SettingWithCopyWarning: \n",
      "A value is trying to be set on a copy of a slice from a DataFrame.\n",
      "Try using .loc[row_indexer,col_indexer] = value instead\n",
      "\n",
      "See the caveats in the documentation: https://pandas.pydata.org/pandas-docs/stable/user_guide/indexing.html#returning-a-view-versus-a-copy\n",
      "  self.obj[key] = value\n",
      "/usr/local/lib/python3.8/dist-packages/pandas/core/indexing.py:1720: SettingWithCopyWarning: \n",
      "A value is trying to be set on a copy of a slice from a DataFrame.\n",
      "Try using .loc[row_indexer,col_indexer] = value instead\n",
      "\n",
      "See the caveats in the documentation: https://pandas.pydata.org/pandas-docs/stable/user_guide/indexing.html#returning-a-view-versus-a-copy\n",
      "  self._setitem_single_column(loc, value, pi)\n"
     ]
    }
   ],
   "source": [
    "training_data.loc[:,'split'] = 'train'\n",
    "testing_data.loc[:,'split'] = 'test'"
   ]
  },
  {
   "cell_type": "code",
   "execution_count": 20,
   "id": "7109b5d6",
   "metadata": {},
   "outputs": [],
   "source": [
    "openI1 = pd.concat([training_data, testing_data], axis=0)"
   ]
  },
  {
   "cell_type": "code",
   "execution_count": 23,
   "id": "546fd788",
   "metadata": {},
   "outputs": [],
   "source": [
    "openI1.reset_index(inplace=True)"
   ]
  },
  {
   "cell_type": "code",
   "execution_count": 24,
   "id": "7ca7e2d7",
   "metadata": {},
   "outputs": [],
   "source": [
    "openI1.rename(columns={'index':'id'}, inplace=True)"
   ]
  },
  {
   "cell_type": "code",
   "execution_count": 27,
   "id": "c4918d70",
   "metadata": {},
   "outputs": [],
   "source": [
    "openI1.set_index(\"id\",inplace=True)"
   ]
  },
  {
   "cell_type": "code",
   "execution_count": 28,
   "id": "5d642698",
   "metadata": {},
   "outputs": [],
   "source": [
    "a = openI1.sort_values(\"id\")"
   ]
  },
  {
   "cell_type": "code",
   "execution_count": 29,
   "id": "710494cd",
   "metadata": {},
   "outputs": [],
   "source": [
    "openI = pd.concat([a,data_df1['text']],axis=1)"
   ]
  },
  {
   "cell_type": "code",
   "execution_count": 30,
   "id": "a6ca2bee",
   "metadata": {},
   "outputs": [],
   "source": [
    "openI.reset_index(inplace=True)\n",
    "openI = openI.rename(columns = {'index':'id'})"
   ]
  },
  {
   "cell_type": "code",
   "execution_count": 31,
   "id": "962fd9bb",
   "metadata": {},
   "outputs": [
    {
     "data": {
      "text/html": [
       "<div>\n",
       "<style scoped>\n",
       "    .dataframe tbody tr th:only-of-type {\n",
       "        vertical-align: middle;\n",
       "    }\n",
       "\n",
       "    .dataframe tbody tr th {\n",
       "        vertical-align: top;\n",
       "    }\n",
       "\n",
       "    .dataframe thead th {\n",
       "        text-align: right;\n",
       "    }\n",
       "</style>\n",
       "<table border=\"1\" class=\"dataframe\">\n",
       "  <thead>\n",
       "    <tr style=\"text-align: right;\">\n",
       "      <th></th>\n",
       "      <th>id</th>\n",
       "      <th>abstract</th>\n",
       "      <th>affiliation</th>\n",
       "      <th>author</th>\n",
       "      <th>date</th>\n",
       "      <th>journal</th>\n",
       "      <th>title</th>\n",
       "      <th>split</th>\n",
       "      <th>text</th>\n",
       "    </tr>\n",
       "  </thead>\n",
       "  <tbody>\n",
       "    <tr>\n",
       "      <th>0</th>\n",
       "      <td>1</td>\n",
       "      <td>1</td>\n",
       "      <td>0</td>\n",
       "      <td>0</td>\n",
       "      <td>0</td>\n",
       "      <td>0</td>\n",
       "      <td>0</td>\n",
       "      <td>train</td>\n",
       "      <td>Abstract. The article is about the specifics o...</td>\n",
       "    </tr>\n",
       "    <tr>\n",
       "      <th>1</th>\n",
       "      <td>2</td>\n",
       "      <td>0</td>\n",
       "      <td>0</td>\n",
       "      <td>0</td>\n",
       "      <td>0</td>\n",
       "      <td>1</td>\n",
       "      <td>0</td>\n",
       "      <td>test</td>\n",
       "      <td>2017|05</td>\n",
       "    </tr>\n",
       "    <tr>\n",
       "      <th>2</th>\n",
       "      <td>3</td>\n",
       "      <td>0</td>\n",
       "      <td>0</td>\n",
       "      <td>0</td>\n",
       "      <td>0</td>\n",
       "      <td>0</td>\n",
       "      <td>1</td>\n",
       "      <td>train</td>\n",
       "      <td>Eingabenkultur und Diktaturerfahrungen in der DDR</td>\n",
       "    </tr>\n",
       "    <tr>\n",
       "      <th>3</th>\n",
       "      <td>4</td>\n",
       "      <td>0</td>\n",
       "      <td>0</td>\n",
       "      <td>1</td>\n",
       "      <td>0</td>\n",
       "      <td>0</td>\n",
       "      <td>0</td>\n",
       "      <td>test</td>\n",
       "      <td>Cornelia Neuert, Patricia Hadler, Timo Lenzner...</td>\n",
       "    </tr>\n",
       "    <tr>\n",
       "      <th>4</th>\n",
       "      <td>5</td>\n",
       "      <td>0</td>\n",
       "      <td>0</td>\n",
       "      <td>0</td>\n",
       "      <td>0</td>\n",
       "      <td>0</td>\n",
       "      <td>1</td>\n",
       "      <td>train</td>\n",
       "      <td>Palliative care and bioethics: study with assi...</td>\n",
       "    </tr>\n",
       "    <tr>\n",
       "      <th>...</th>\n",
       "      <td>...</td>\n",
       "      <td>...</td>\n",
       "      <td>...</td>\n",
       "      <td>...</td>\n",
       "      <td>...</td>\n",
       "      <td>...</td>\n",
       "      <td>...</td>\n",
       "      <td>...</td>\n",
       "      <td>...</td>\n",
       "    </tr>\n",
       "    <tr>\n",
       "      <th>80687</th>\n",
       "      <td>80688</td>\n",
       "      <td>0</td>\n",
       "      <td>1</td>\n",
       "      <td>0</td>\n",
       "      <td>0</td>\n",
       "      <td>0</td>\n",
       "      <td>0</td>\n",
       "      <td>train</td>\n",
       "      <td>la implementacio6n del Programa de Apoyo pleme...</td>\n",
       "    </tr>\n",
       "    <tr>\n",
       "      <th>80688</th>\n",
       "      <td>80689</td>\n",
       "      <td>1</td>\n",
       "      <td>0</td>\n",
       "      <td>0</td>\n",
       "      <td>0</td>\n",
       "      <td>0</td>\n",
       "      <td>0</td>\n",
       "      <td>train</td>\n",
       "      <td>*“* Profesor investigador en la Universidad Au...</td>\n",
       "    </tr>\n",
       "    <tr>\n",
       "      <th>80689</th>\n",
       "      <td>80690</td>\n",
       "      <td>0</td>\n",
       "      <td>0</td>\n",
       "      <td>0</td>\n",
       "      <td>0</td>\n",
       "      <td>0</td>\n",
       "      <td>1</td>\n",
       "      <td>train</td>\n",
       "      <td>Griindung der \"Association of the Sociologists...</td>\n",
       "    </tr>\n",
       "    <tr>\n",
       "      <th>80690</th>\n",
       "      <td>80691</td>\n",
       "      <td>0</td>\n",
       "      <td>0</td>\n",
       "      <td>1</td>\n",
       "      <td>0</td>\n",
       "      <td>0</td>\n",
       "      <td>0</td>\n",
       "      <td>train</td>\n",
       "      <td>Heine von Alemann</td>\n",
       "    </tr>\n",
       "    <tr>\n",
       "      <th>80691</th>\n",
       "      <td>80692</td>\n",
       "      <td>0</td>\n",
       "      <td>1</td>\n",
       "      <td>0</td>\n",
       "      <td>0</td>\n",
       "      <td>0</td>\n",
       "      <td>0</td>\n",
       "      <td>train</td>\n",
       "      <td>Auf einer Konferenz von Fachvertretern europai...</td>\n",
       "    </tr>\n",
       "  </tbody>\n",
       "</table>\n",
       "<p>80692 rows × 9 columns</p>\n",
       "</div>"
      ],
      "text/plain": [
       "          id  abstract  affiliation  author  date  journal  title  split  \\\n",
       "0          1         1            0       0     0        0      0  train   \n",
       "1          2         0            0       0     0        1      0   test   \n",
       "2          3         0            0       0     0        0      1  train   \n",
       "3          4         0            0       1     0        0      0   test   \n",
       "4          5         0            0       0     0        0      1  train   \n",
       "...      ...       ...          ...     ...   ...      ...    ...    ...   \n",
       "80687  80688         0            1       0     0        0      0  train   \n",
       "80688  80689         1            0       0     0        0      0  train   \n",
       "80689  80690         0            0       0     0        0      1  train   \n",
       "80690  80691         0            0       1     0        0      0  train   \n",
       "80691  80692         0            1       0     0        0      0  train   \n",
       "\n",
       "                                                    text  \n",
       "0      Abstract. The article is about the specifics o...  \n",
       "1                                                2017|05  \n",
       "2      Eingabenkultur und Diktaturerfahrungen in der DDR  \n",
       "3      Cornelia Neuert, Patricia Hadler, Timo Lenzner...  \n",
       "4      Palliative care and bioethics: study with assi...  \n",
       "...                                                  ...  \n",
       "80687  la implementacio6n del Programa de Apoyo pleme...  \n",
       "80688  *“* Profesor investigador en la Universidad Au...  \n",
       "80689  Griindung der \"Association of the Sociologists...  \n",
       "80690                                  Heine von Alemann  \n",
       "80691  Auf einer Konferenz von Fachvertretern europai...  \n",
       "\n",
       "[80692 rows x 9 columns]"
      ]
     },
     "execution_count": 31,
     "metadata": {},
     "output_type": "execute_result"
    }
   ],
   "source": [
    "openI"
   ]
  },
  {
   "cell_type": "code",
   "execution_count": 32,
   "id": "80e33d90",
   "metadata": {},
   "outputs": [
    {
     "data": {
      "text/plain": [
       "4881"
      ]
     },
     "execution_count": 32,
     "metadata": {},
     "output_type": "execute_result"
    }
   ],
   "source": [
    "a=openI.loc[(openI[\"abstract\"]==1) & (openI[\"split\"]==\"train\")]\n",
    "len(a)"
   ]
  },
  {
   "cell_type": "code",
   "execution_count": 33,
   "id": "5ef05727",
   "metadata": {},
   "outputs": [
    {
     "data": {
      "text/plain": [
       "12472"
      ]
     },
     "execution_count": 33,
     "metadata": {},
     "output_type": "execute_result"
    }
   ],
   "source": [
    "s=openI.loc[(openI[\"affiliation\"]==1) & (openI[\"split\"]==\"train\")]\n",
    "len(s)"
   ]
  },
  {
   "cell_type": "code",
   "execution_count": 34,
   "id": "fca404c5",
   "metadata": {},
   "outputs": [
    {
     "data": {
      "text/plain": [
       "25042"
      ]
     },
     "execution_count": 34,
     "metadata": {},
     "output_type": "execute_result"
    }
   ],
   "source": [
    "s=openI.loc[(openI[\"title\"]==1) & (openI[\"split\"]==\"train\")]\n",
    "len(s)"
   ]
  },
  {
   "cell_type": "code",
   "execution_count": 35,
   "id": "3349b579",
   "metadata": {},
   "outputs": [
    {
     "data": {
      "text/plain": [
       "15797"
      ]
     },
     "execution_count": 35,
     "metadata": {},
     "output_type": "execute_result"
    }
   ],
   "source": [
    "a=openI.loc[(openI[\"author\"]==1) & (openI[\"split\"]==\"train\")]\n",
    "len(a)"
   ]
  },
  {
   "cell_type": "code",
   "execution_count": 36,
   "id": "5412f94b",
   "metadata": {},
   "outputs": [
    {
     "data": {
      "text/plain": [
       "2820"
      ]
     },
     "execution_count": 36,
     "metadata": {},
     "output_type": "execute_result"
    }
   ],
   "source": [
    "a=openI.loc[(openI[\"date\"]==1) & (openI[\"split\"]==\"train\")]\n",
    "len(a)"
   ]
  },
  {
   "cell_type": "code",
   "execution_count": 37,
   "id": "7a4a6ca6",
   "metadata": {},
   "outputs": [
    {
     "data": {
      "text/plain": [
       "3541"
      ]
     },
     "execution_count": 37,
     "metadata": {},
     "output_type": "execute_result"
    }
   ],
   "source": [
    "a=openI.loc[(openI[\"journal\"]==1) & (openI[\"split\"]==\"train\")]\n",
    "len(a)"
   ]
  },
  {
   "cell_type": "code",
   "execution_count": 38,
   "id": "1a180f40",
   "metadata": {},
   "outputs": [],
   "source": [
    "import pickle\n",
    "# save dataframe to pickle file\n",
    "with open('/home/amisha/Transformers-VQA/data/openI.pkl', 'wb') as file:\n",
    "    pickle.dump(openI, file, protocol=pickle.HIGHEST_PROTOCOL)"
   ]
  },
  {
   "cell_type": "code",
   "execution_count": 39,
   "id": "f2523950",
   "metadata": {},
   "outputs": [],
   "source": [
    "#creating embedding vector with img2Vec\n",
    "Name = []\n",
    "Embeddings =[]\n",
    "size=[]\n",
    "BBox = []\n",
    "\n",
    "for idx, row in data_df1.iterrows():\n",
    "    BBox_row = row[1]\n",
    "    bbox_np_arr = numpy.array([BBox_row],numpy.int32)\n",
    "    BBox.append(bbox_np_arr)\n",
    "    #print(BBox_row)\n",
    "\n",
    "    name, extension = os.path.splitext(row[4])\n",
    "    #print(name)\n",
    "    \n",
    "    img1 = Image.open(\"/home/amisha/images_10/\"+name.split(\"/\")[-1]+'.jpg')\n",
    "    im_size = img1.size\n",
    "    #print(im_size)\n",
    "    \n",
    "    size.append(im_size)\n",
    "    cropped_im = img1.crop(row[1])\n",
    "\n",
    "    vec = img2vec.get_vec(cropped_im, tensor=True)\n",
    "    vec = vec.reshape(1,2048)\n",
    "    np_arr = vec.cpu().detach().numpy()\n",
    "    Embeddings.append(np_arr)"
   ]
  },
  {
   "cell_type": "code",
   "execution_count": 40,
   "id": "839eee35",
   "metadata": {},
   "outputs": [],
   "source": [
    "new_embed = []\n",
    "for i in range(0,len(Embeddings)):\n",
    "    new_embed.append(Embeddings[i][0])"
   ]
  },
  {
   "cell_type": "code",
   "execution_count": 41,
   "id": "b85363fe",
   "metadata": {},
   "outputs": [],
   "source": [
    "data_df1['size'] = size"
   ]
  },
  {
   "cell_type": "code",
   "execution_count": 42,
   "id": "56784b6a",
   "metadata": {},
   "outputs": [],
   "source": [
    "data_df1.index.name = 'id'"
   ]
  },
  {
   "cell_type": "code",
   "execution_count": 44,
   "id": "13de958b",
   "metadata": {},
   "outputs": [],
   "source": [
    "data_df1['Embeddings'] = Embeddings"
   ]
  },
  {
   "cell_type": "code",
   "execution_count": 45,
   "id": "ae96842b",
   "metadata": {},
   "outputs": [],
   "source": [
    "data_df1['BBox'] = BBox"
   ]
  },
  {
   "cell_type": "code",
   "execution_count": 46,
   "id": "b12e85ca",
   "metadata": {},
   "outputs": [],
   "source": [
    "data_df2 = data_df1.drop(['text','image_path','bbox'],axis =1)"
   ]
  },
  {
   "cell_type": "code",
   "execution_count": 47,
   "id": "f6f53619",
   "metadata": {},
   "outputs": [],
   "source": [
    "data_df2.reset_index(drop=True, inplace=True)"
   ]
  },
  {
   "cell_type": "code",
   "execution_count": 49,
   "id": "08a6a666",
   "metadata": {},
   "outputs": [],
   "source": [
    "from sklearn.preprocessing import LabelEncoder\n",
    "labelencoder = LabelEncoder()\n",
    "data_df2[\"LABEL\"] = labelencoder.fit_transform(data_df2[\"label\"]) "
   ]
  },
  {
   "cell_type": "code",
   "execution_count": 58,
   "id": "1d35e6e0",
   "metadata": {},
   "outputs": [
    {
     "data": {
      "text/html": [
       "<div>\n",
       "<style scoped>\n",
       "    .dataframe tbody tr th:only-of-type {\n",
       "        vertical-align: middle;\n",
       "    }\n",
       "\n",
       "    .dataframe tbody tr th {\n",
       "        vertical-align: top;\n",
       "    }\n",
       "\n",
       "    .dataframe thead th {\n",
       "        text-align: right;\n",
       "    }\n",
       "</style>\n",
       "<table border=\"1\" class=\"dataframe\">\n",
       "  <thead>\n",
       "    <tr style=\"text-align: right;\">\n",
       "      <th></th>\n",
       "      <th>label</th>\n",
       "      <th>image_id</th>\n",
       "      <th>size</th>\n",
       "      <th>Embeddings</th>\n",
       "      <th>BBox</th>\n",
       "      <th>LABEL</th>\n",
       "    </tr>\n",
       "  </thead>\n",
       "  <tbody>\n",
       "    <tr>\n",
       "      <th>0</th>\n",
       "      <td>abstract</td>\n",
       "      <td>1</td>\n",
       "      <td>(1654, 2339)</td>\n",
       "      <td>[[0.1515294, 0.16800034, 0.09502802, 1.004601,...</td>\n",
       "      <td>[[142, 951, 1479, 1097]]</td>\n",
       "      <td>0</td>\n",
       "    </tr>\n",
       "    <tr>\n",
       "      <th>1</th>\n",
       "      <td>journal</td>\n",
       "      <td>2</td>\n",
       "      <td>(1654, 2339)</td>\n",
       "      <td>[[0.17616051, 0.2546115, 0.00018553973, 0.0, 0...</td>\n",
       "      <td>[[578, 956, 745, 1007]]</td>\n",
       "      <td>4</td>\n",
       "    </tr>\n",
       "    <tr>\n",
       "      <th>2</th>\n",
       "      <td>title</td>\n",
       "      <td>2</td>\n",
       "      <td>(1654, 2339)</td>\n",
       "      <td>[[0.02300931, 0.34190863, 0.26479852, 0.664131...</td>\n",
       "      <td>[[582, 1156, 1438, 1296]]</td>\n",
       "      <td>5</td>\n",
       "    </tr>\n",
       "    <tr>\n",
       "      <th>3</th>\n",
       "      <td>author</td>\n",
       "      <td>2</td>\n",
       "      <td>(1654, 2339)</td>\n",
       "      <td>[[0.03216585, 0.34966055, 0.16534907, 1.040945...</td>\n",
       "      <td>[[576, 1653, 1605, 1818]]</td>\n",
       "      <td>2</td>\n",
       "    </tr>\n",
       "    <tr>\n",
       "      <th>4</th>\n",
       "      <td>title</td>\n",
       "      <td>3</td>\n",
       "      <td>(1654, 2339)</td>\n",
       "      <td>[[2.7137752, 0.6436359, 0.09835813, 0.5155353,...</td>\n",
       "      <td>[[223, 657, 1143, 695]]</td>\n",
       "      <td>5</td>\n",
       "    </tr>\n",
       "    <tr>\n",
       "      <th>...</th>\n",
       "      <td>...</td>\n",
       "      <td>...</td>\n",
       "      <td>...</td>\n",
       "      <td>...</td>\n",
       "      <td>...</td>\n",
       "      <td>...</td>\n",
       "    </tr>\n",
       "    <tr>\n",
       "      <th>80687</th>\n",
       "      <td>affiliation</td>\n",
       "      <td>34999</td>\n",
       "      <td>(1534, 2007)</td>\n",
       "      <td>[[1.6049753, 1.5060737, 0.13247229, 0.34662136...</td>\n",
       "      <td>[[232, 940, 1304, 966]]</td>\n",
       "      <td>1</td>\n",
       "    </tr>\n",
       "    <tr>\n",
       "      <th>80688</th>\n",
       "      <td>abstract</td>\n",
       "      <td>34999</td>\n",
       "      <td>(1534, 2007)</td>\n",
       "      <td>[[0.18397199, 0.17473847, 0.50997806, 0.219659...</td>\n",
       "      <td>[[232, 1362, 1302, 1559]]</td>\n",
       "      <td>0</td>\n",
       "    </tr>\n",
       "    <tr>\n",
       "      <th>80689</th>\n",
       "      <td>title</td>\n",
       "      <td>35000</td>\n",
       "      <td>(1046, 1487)</td>\n",
       "      <td>[[0.0027051086, 0.24816172, 0.05799809, 0.0517...</td>\n",
       "      <td>[[206, 172, 762, 301]]</td>\n",
       "      <td>5</td>\n",
       "    </tr>\n",
       "    <tr>\n",
       "      <th>80690</th>\n",
       "      <td>author</td>\n",
       "      <td>35000</td>\n",
       "      <td>(1046, 1487)</td>\n",
       "      <td>[[1.996199, 1.1742235, 0.11424567, 0.34917492,...</td>\n",
       "      <td>[[382, 358, 585, 377]]</td>\n",
       "      <td>2</td>\n",
       "    </tr>\n",
       "    <tr>\n",
       "      <th>80691</th>\n",
       "      <td>affiliation</td>\n",
       "      <td>35000</td>\n",
       "      <td>(1046, 1487)</td>\n",
       "      <td>[[0.20525208, 0.047718327, 0.051985286, 0.0072...</td>\n",
       "      <td>[[46, 531, 918, 969]]</td>\n",
       "      <td>1</td>\n",
       "    </tr>\n",
       "  </tbody>\n",
       "</table>\n",
       "<p>80692 rows × 6 columns</p>\n",
       "</div>"
      ],
      "text/plain": [
       "             label  image_id          size  \\\n",
       "0         abstract         1  (1654, 2339)   \n",
       "1          journal         2  (1654, 2339)   \n",
       "2            title         2  (1654, 2339)   \n",
       "3           author         2  (1654, 2339)   \n",
       "4            title         3  (1654, 2339)   \n",
       "...            ...       ...           ...   \n",
       "80687  affiliation     34999  (1534, 2007)   \n",
       "80688     abstract     34999  (1534, 2007)   \n",
       "80689        title     35000  (1046, 1487)   \n",
       "80690       author     35000  (1046, 1487)   \n",
       "80691  affiliation     35000  (1046, 1487)   \n",
       "\n",
       "                                              Embeddings  \\\n",
       "0      [[0.1515294, 0.16800034, 0.09502802, 1.004601,...   \n",
       "1      [[0.17616051, 0.2546115, 0.00018553973, 0.0, 0...   \n",
       "2      [[0.02300931, 0.34190863, 0.26479852, 0.664131...   \n",
       "3      [[0.03216585, 0.34966055, 0.16534907, 1.040945...   \n",
       "4      [[2.7137752, 0.6436359, 0.09835813, 0.5155353,...   \n",
       "...                                                  ...   \n",
       "80687  [[1.6049753, 1.5060737, 0.13247229, 0.34662136...   \n",
       "80688  [[0.18397199, 0.17473847, 0.50997806, 0.219659...   \n",
       "80689  [[0.0027051086, 0.24816172, 0.05799809, 0.0517...   \n",
       "80690  [[1.996199, 1.1742235, 0.11424567, 0.34917492,...   \n",
       "80691  [[0.20525208, 0.047718327, 0.051985286, 0.0072...   \n",
       "\n",
       "                            BBox  LABEL  \n",
       "0       [[142, 951, 1479, 1097]]      0  \n",
       "1        [[578, 956, 745, 1007]]      4  \n",
       "2      [[582, 1156, 1438, 1296]]      5  \n",
       "3      [[576, 1653, 1605, 1818]]      2  \n",
       "4        [[223, 657, 1143, 695]]      5  \n",
       "...                          ...    ...  \n",
       "80687    [[232, 940, 1304, 966]]      1  \n",
       "80688  [[232, 1362, 1302, 1559]]      0  \n",
       "80689     [[206, 172, 762, 301]]      5  \n",
       "80690     [[382, 358, 585, 377]]      2  \n",
       "80691      [[46, 531, 918, 969]]      1  \n",
       "\n",
       "[80692 rows x 6 columns]"
      ]
     },
     "execution_count": 58,
     "metadata": {},
     "output_type": "execute_result"
    }
   ],
   "source": [
    "data_df2"
   ]
  },
  {
   "cell_type": "code",
   "execution_count": 51,
   "id": "9e89a404",
   "metadata": {},
   "outputs": [],
   "source": [
    "from sklearn.model_selection import train_test_split\n",
    "\n",
    "# Split dataset into training set and test set\n",
    "X_train, X_test, y_train, y_test = train_test_split(new_embed, y, test_size=0.2,random_state=109) # 70% training and 30% test"
   ]
  },
  {
   "cell_type": "code",
   "execution_count": 52,
   "id": "a83ebc14",
   "metadata": {},
   "outputs": [],
   "source": [
    "#Import svm model\n",
    "from sklearn import svm\n",
    "\n",
    "#Create a svm Classifier\n",
    "clf = svm.SVC(kernel='linear') # Linear Kernel\n",
    "\n",
    "#Train the model using the training sets\n",
    "clf.fit(X_train, y_train)\n",
    "\n",
    "#Predict the response for test dataset\n",
    "y_pred = clf.predict(X_test)"
   ]
  },
  {
   "cell_type": "code",
   "execution_count": 54,
   "id": "fff9a960",
   "metadata": {},
   "outputs": [
    {
     "data": {
      "text/plain": [
       "24208"
      ]
     },
     "execution_count": 54,
     "metadata": {},
     "output_type": "execute_result"
    }
   ],
   "source": [
    "len(y_pred)"
   ]
  },
  {
   "cell_type": "code",
   "execution_count": 56,
   "id": "dbb31bea",
   "metadata": {},
   "outputs": [
    {
     "data": {
      "text/plain": [
       "24208"
      ]
     },
     "execution_count": 56,
     "metadata": {},
     "output_type": "execute_result"
    }
   ],
   "source": [
    "len(y_test)"
   ]
  },
  {
   "cell_type": "code",
   "execution_count": 59,
   "id": "2f13faa3",
   "metadata": {},
   "outputs": [
    {
     "name": "stdout",
     "output_type": "stream",
     "text": [
      "              precision    recall  f1-score   support\n",
      "\n",
      "    abstract       0.68      0.58      0.62      1756\n",
      " affiliation       0.75      0.84      0.80      4683\n",
      "      author       0.87      0.87      0.87      5865\n",
      "        date       0.91      0.90      0.91      1039\n",
      "     journal       0.86      0.78      0.82      1360\n",
      "       title       0.88      0.87      0.88      9505\n",
      "\n",
      "    accuracy                           0.84     24208\n",
      "   macro avg       0.83      0.81      0.81     24208\n",
      "weighted avg       0.84      0.84      0.84     24208\n",
      "\n"
     ]
    }
   ],
   "source": [
    "from sklearn.metrics import classification_report\n",
    "target_names = ['abstract','affiliation', 'author','date','journal','title']\n",
    "report = pd.DataFrame(classification_report(y_test, y_pred, target_names=target_names)).transpose()\n",
    "print(classification_report(y_test, y_pred, target_names=target_names))"
   ]
  },
  {
   "cell_type": "code",
   "execution_count": null,
   "id": "ce6c6c4c",
   "metadata": {},
   "outputs": [],
   "source": [
    "report.to_csv('Result_SVM.csv', index= True)"
   ]
  },
  {
   "cell_type": "code",
   "execution_count": 52,
   "id": "20f00a7a",
   "metadata": {},
   "outputs": [],
   "source": [
    "#dictionary for each image correspondance to sub image\n",
    "openI_v_f = {}\n",
    "\n",
    "for i, row in data_df2.iterrows():\n",
    "    #print(i)\n",
    "    #openI_v_f[i] = [new[i][\"BBox\"], new[i][\"Embeddings\"], tuple(new[i][\"size\"].unique())]\n",
    "    openI_v_f[i+1] = [(row[\"BBox\"]), (row[\"Embeddings\"]), row[\"size\"]]"
   ]
  },
  {
   "cell_type": "code",
   "execution_count": 53,
   "id": "023edfbc",
   "metadata": {},
   "outputs": [],
   "source": [
    "feature_example, bbox_example, (img_w_example, img_h_example)  = openI_v_f[openI.id.iloc[0]]"
   ]
  },
  {
   "cell_type": "code",
   "execution_count": 54,
   "id": "f20a0b35",
   "metadata": {},
   "outputs": [
    {
     "data": {
      "text/plain": [
       "((1, 4), (1, 2048), (1654, 2339))"
      ]
     },
     "execution_count": 54,
     "metadata": {},
     "output_type": "execute_result"
    }
   ],
   "source": [
    "feature_example.shape, bbox_example.shape, (img_w_example, img_h_example)"
   ]
  },
  {
   "cell_type": "code",
   "execution_count": 55,
   "id": "57f3a005",
   "metadata": {},
   "outputs": [],
   "source": [
    "import pickle\n",
    "# save embedding vectors to pickle file\n",
    "with open(\"/home/amisha/Transformers-VQA/data/openI_v_f.pkl\", 'wb') as file:\n",
    "    pickle.dump(openI_v_f, file, protocol=pickle.HIGHEST_PROTOCOL)"
   ]
  }
 ],
 "metadata": {
  "kernelspec": {
   "display_name": "Python 3",
   "language": "python",
   "name": "python3"
  },
  "language_info": {
   "codemirror_mode": {
    "name": "ipython",
    "version": 3
   },
   "file_extension": ".py",
   "mimetype": "text/x-python",
   "name": "python",
   "nbconvert_exporter": "python",
   "pygments_lexer": "ipython3",
   "version": "3.8.10"
  }
 },
 "nbformat": 4,
 "nbformat_minor": 5
}
